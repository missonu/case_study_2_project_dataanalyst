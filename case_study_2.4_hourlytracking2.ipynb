{
 "cells": [
  {
   "cell_type": "code",
   "execution_count": 2,
   "id": "daab6ba1",
   "metadata": {},
   "outputs": [],
   "source": [
    "import pandas as pd\n",
    "import numpy as np\n",
    "import seaborn as sns\n",
    "import matplotlib.pyplot as plt"
   ]
  },
  {
   "cell_type": "markdown",
   "id": "d4e88d79",
   "metadata": {},
   "source": [
    "Lets check at which time of the day a person users are most active\n",
    "* we will divide the 24 hours into 6 categories: '12am-3am', '4am-7am', '8am-11am', '12pm-3pm', '4pm-7pm', '8pm-11pm'"
   ]
  },
  {
   "cell_type": "code",
   "execution_count": 3,
   "id": "d4f460f2",
   "metadata": {},
   "outputs": [],
   "source": [
    "df=pd.read_csv(\"/home/sunit.kapuria/data analyst course/case_study_2/Fitabase Data 4.12.16-5.12.16/hourlyCalories_merged.csv\")"
   ]
  },
  {
   "cell_type": "code",
   "execution_count": 4,
   "id": "03078cdb",
   "metadata": {},
   "outputs": [],
   "source": [
    "df['ActivityHour']=pd.to_datetime(df['ActivityHour'])"
   ]
  },
  {
   "cell_type": "code",
   "execution_count": 24,
   "id": "608dfc43",
   "metadata": {},
   "outputs": [
    {
     "data": {
      "text/plain": [
       "33"
      ]
     },
     "execution_count": 24,
     "metadata": {},
     "output_type": "execute_result"
    }
   ],
   "source": [
    "df['Id'].nunique()"
   ]
  },
  {
   "cell_type": "markdown",
   "id": "87aa32fb",
   "metadata": {},
   "source": [
    "* Data is available for 33 users"
   ]
  },
  {
   "cell_type": "code",
   "execution_count": 5,
   "id": "8edae37d",
   "metadata": {},
   "outputs": [
    {
     "name": "stdout",
     "output_type": "stream",
     "text": [
      "<class 'pandas.core.frame.DataFrame'>\n",
      "RangeIndex: 22099 entries, 0 to 22098\n",
      "Data columns (total 3 columns):\n",
      " #   Column        Non-Null Count  Dtype         \n",
      "---  ------        --------------  -----         \n",
      " 0   Id            22099 non-null  int64         \n",
      " 1   ActivityHour  22099 non-null  datetime64[ns]\n",
      " 2   Calories      22099 non-null  int64         \n",
      "dtypes: datetime64[ns](1), int64(2)\n",
      "memory usage: 518.1 KB\n"
     ]
    }
   ],
   "source": [
    "df.info()"
   ]
  },
  {
   "cell_type": "code",
   "execution_count": 6,
   "id": "09f5663a",
   "metadata": {},
   "outputs": [
    {
     "data": {
      "text/html": [
       "<div>\n",
       "<style scoped>\n",
       "    .dataframe tbody tr th:only-of-type {\n",
       "        vertical-align: middle;\n",
       "    }\n",
       "\n",
       "    .dataframe tbody tr th {\n",
       "        vertical-align: top;\n",
       "    }\n",
       "\n",
       "    .dataframe thead th {\n",
       "        text-align: right;\n",
       "    }\n",
       "</style>\n",
       "<table border=\"1\" class=\"dataframe\">\n",
       "  <thead>\n",
       "    <tr style=\"text-align: right;\">\n",
       "      <th></th>\n",
       "      <th>Id</th>\n",
       "      <th>ActivityHour</th>\n",
       "      <th>Calories</th>\n",
       "    </tr>\n",
       "  </thead>\n",
       "  <tbody>\n",
       "    <tr>\n",
       "      <th>0</th>\n",
       "      <td>1503960366</td>\n",
       "      <td>2016-04-12 00:00:00</td>\n",
       "      <td>81</td>\n",
       "    </tr>\n",
       "    <tr>\n",
       "      <th>1</th>\n",
       "      <td>1503960366</td>\n",
       "      <td>2016-04-12 01:00:00</td>\n",
       "      <td>61</td>\n",
       "    </tr>\n",
       "    <tr>\n",
       "      <th>2</th>\n",
       "      <td>1503960366</td>\n",
       "      <td>2016-04-12 02:00:00</td>\n",
       "      <td>59</td>\n",
       "    </tr>\n",
       "    <tr>\n",
       "      <th>3</th>\n",
       "      <td>1503960366</td>\n",
       "      <td>2016-04-12 03:00:00</td>\n",
       "      <td>47</td>\n",
       "    </tr>\n",
       "    <tr>\n",
       "      <th>4</th>\n",
       "      <td>1503960366</td>\n",
       "      <td>2016-04-12 04:00:00</td>\n",
       "      <td>48</td>\n",
       "    </tr>\n",
       "  </tbody>\n",
       "</table>\n",
       "</div>"
      ],
      "text/plain": [
       "           Id        ActivityHour  Calories\n",
       "0  1503960366 2016-04-12 00:00:00        81\n",
       "1  1503960366 2016-04-12 01:00:00        61\n",
       "2  1503960366 2016-04-12 02:00:00        59\n",
       "3  1503960366 2016-04-12 03:00:00        47\n",
       "4  1503960366 2016-04-12 04:00:00        48"
      ]
     },
     "execution_count": 6,
     "metadata": {},
     "output_type": "execute_result"
    }
   ],
   "source": [
    "df.head(5)"
   ]
  },
  {
   "cell_type": "code",
   "execution_count": 7,
   "id": "525ad4b2",
   "metadata": {},
   "outputs": [],
   "source": [
    "df['date']=df['ActivityHour'].dt.date"
   ]
  },
  {
   "cell_type": "code",
   "execution_count": 8,
   "id": "4636511d",
   "metadata": {},
   "outputs": [
    {
     "data": {
      "text/html": [
       "<div>\n",
       "<style scoped>\n",
       "    .dataframe tbody tr th:only-of-type {\n",
       "        vertical-align: middle;\n",
       "    }\n",
       "\n",
       "    .dataframe tbody tr th {\n",
       "        vertical-align: top;\n",
       "    }\n",
       "\n",
       "    .dataframe thead th {\n",
       "        text-align: right;\n",
       "    }\n",
       "</style>\n",
       "<table border=\"1\" class=\"dataframe\">\n",
       "  <thead>\n",
       "    <tr style=\"text-align: right;\">\n",
       "      <th></th>\n",
       "      <th>Id</th>\n",
       "      <th>ActivityHour</th>\n",
       "      <th>Calories</th>\n",
       "      <th>date</th>\n",
       "    </tr>\n",
       "  </thead>\n",
       "  <tbody>\n",
       "    <tr>\n",
       "      <th>0</th>\n",
       "      <td>1503960366</td>\n",
       "      <td>2016-04-12 00:00:00</td>\n",
       "      <td>81</td>\n",
       "      <td>2016-04-12</td>\n",
       "    </tr>\n",
       "    <tr>\n",
       "      <th>1</th>\n",
       "      <td>1503960366</td>\n",
       "      <td>2016-04-12 01:00:00</td>\n",
       "      <td>61</td>\n",
       "      <td>2016-04-12</td>\n",
       "    </tr>\n",
       "  </tbody>\n",
       "</table>\n",
       "</div>"
      ],
      "text/plain": [
       "           Id        ActivityHour  Calories        date\n",
       "0  1503960366 2016-04-12 00:00:00        81  2016-04-12\n",
       "1  1503960366 2016-04-12 01:00:00        61  2016-04-12"
      ]
     },
     "execution_count": 8,
     "metadata": {},
     "output_type": "execute_result"
    }
   ],
   "source": [
    "df.head(2)"
   ]
  },
  {
   "cell_type": "code",
   "execution_count": 9,
   "id": "2e763377",
   "metadata": {},
   "outputs": [],
   "source": [
    "df['hour']=df['ActivityHour'].dt.hour"
   ]
  },
  {
   "cell_type": "code",
   "execution_count": 10,
   "id": "7b26f8c5",
   "metadata": {},
   "outputs": [
    {
     "data": {
      "text/html": [
       "<div>\n",
       "<style scoped>\n",
       "    .dataframe tbody tr th:only-of-type {\n",
       "        vertical-align: middle;\n",
       "    }\n",
       "\n",
       "    .dataframe tbody tr th {\n",
       "        vertical-align: top;\n",
       "    }\n",
       "\n",
       "    .dataframe thead th {\n",
       "        text-align: right;\n",
       "    }\n",
       "</style>\n",
       "<table border=\"1\" class=\"dataframe\">\n",
       "  <thead>\n",
       "    <tr style=\"text-align: right;\">\n",
       "      <th></th>\n",
       "      <th>Id</th>\n",
       "      <th>ActivityHour</th>\n",
       "      <th>Calories</th>\n",
       "      <th>date</th>\n",
       "      <th>hour</th>\n",
       "    </tr>\n",
       "  </thead>\n",
       "  <tbody>\n",
       "    <tr>\n",
       "      <th>0</th>\n",
       "      <td>1503960366</td>\n",
       "      <td>2016-04-12 00:00:00</td>\n",
       "      <td>81</td>\n",
       "      <td>2016-04-12</td>\n",
       "      <td>0</td>\n",
       "    </tr>\n",
       "    <tr>\n",
       "      <th>1</th>\n",
       "      <td>1503960366</td>\n",
       "      <td>2016-04-12 01:00:00</td>\n",
       "      <td>61</td>\n",
       "      <td>2016-04-12</td>\n",
       "      <td>1</td>\n",
       "    </tr>\n",
       "  </tbody>\n",
       "</table>\n",
       "</div>"
      ],
      "text/plain": [
       "           Id        ActivityHour  Calories        date  hour\n",
       "0  1503960366 2016-04-12 00:00:00        81  2016-04-12     0\n",
       "1  1503960366 2016-04-12 01:00:00        61  2016-04-12     1"
      ]
     },
     "execution_count": 10,
     "metadata": {},
     "output_type": "execute_result"
    }
   ],
   "source": [
    "df.head(2)"
   ]
  },
  {
   "cell_type": "code",
   "execution_count": 11,
   "id": "222facab",
   "metadata": {},
   "outputs": [],
   "source": [
    "def hourly(x):\n",
    "    if x in [0,1,2,3]:\n",
    "        return 1\n",
    "    elif x in [4, 5,6,7]:\n",
    "        return 2\n",
    "    elif x in [8,9,10,11]:\n",
    "        return 3\n",
    "    elif x in [12,13,14,15]:\n",
    "        return 4\n",
    "    elif x in [16,17,18,19]:\n",
    "        return 5\n",
    "    else:\n",
    "        return 6\n",
    "    "
   ]
  },
  {
   "cell_type": "code",
   "execution_count": 12,
   "id": "044a3d8a",
   "metadata": {},
   "outputs": [],
   "source": [
    "df['hour_cat']=df['hour'].apply(hourly)"
   ]
  },
  {
   "cell_type": "code",
   "execution_count": 25,
   "id": "bb41ff47",
   "metadata": {},
   "outputs": [
    {
     "data": {
      "text/html": [
       "<div>\n",
       "<style scoped>\n",
       "    .dataframe tbody tr th:only-of-type {\n",
       "        vertical-align: middle;\n",
       "    }\n",
       "\n",
       "    .dataframe tbody tr th {\n",
       "        vertical-align: top;\n",
       "    }\n",
       "\n",
       "    .dataframe thead th {\n",
       "        text-align: right;\n",
       "    }\n",
       "</style>\n",
       "<table border=\"1\" class=\"dataframe\">\n",
       "  <thead>\n",
       "    <tr style=\"text-align: right;\">\n",
       "      <th></th>\n",
       "      <th>Id</th>\n",
       "      <th>ActivityHour</th>\n",
       "      <th>Calories</th>\n",
       "      <th>date</th>\n",
       "      <th>hour</th>\n",
       "      <th>hour_cat</th>\n",
       "    </tr>\n",
       "  </thead>\n",
       "  <tbody>\n",
       "    <tr>\n",
       "      <th>0</th>\n",
       "      <td>1503960366</td>\n",
       "      <td>2016-04-12 00:00:00</td>\n",
       "      <td>81</td>\n",
       "      <td>2016-04-12</td>\n",
       "      <td>0</td>\n",
       "      <td>1</td>\n",
       "    </tr>\n",
       "    <tr>\n",
       "      <th>1</th>\n",
       "      <td>1503960366</td>\n",
       "      <td>2016-04-12 01:00:00</td>\n",
       "      <td>61</td>\n",
       "      <td>2016-04-12</td>\n",
       "      <td>1</td>\n",
       "      <td>1</td>\n",
       "    </tr>\n",
       "    <tr>\n",
       "      <th>2</th>\n",
       "      <td>1503960366</td>\n",
       "      <td>2016-04-12 02:00:00</td>\n",
       "      <td>59</td>\n",
       "      <td>2016-04-12</td>\n",
       "      <td>2</td>\n",
       "      <td>1</td>\n",
       "    </tr>\n",
       "    <tr>\n",
       "      <th>3</th>\n",
       "      <td>1503960366</td>\n",
       "      <td>2016-04-12 03:00:00</td>\n",
       "      <td>47</td>\n",
       "      <td>2016-04-12</td>\n",
       "      <td>3</td>\n",
       "      <td>1</td>\n",
       "    </tr>\n",
       "    <tr>\n",
       "      <th>4</th>\n",
       "      <td>1503960366</td>\n",
       "      <td>2016-04-12 04:00:00</td>\n",
       "      <td>48</td>\n",
       "      <td>2016-04-12</td>\n",
       "      <td>4</td>\n",
       "      <td>2</td>\n",
       "    </tr>\n",
       "  </tbody>\n",
       "</table>\n",
       "</div>"
      ],
      "text/plain": [
       "           Id        ActivityHour  Calories        date  hour  hour_cat\n",
       "0  1503960366 2016-04-12 00:00:00        81  2016-04-12     0         1\n",
       "1  1503960366 2016-04-12 01:00:00        61  2016-04-12     1         1\n",
       "2  1503960366 2016-04-12 02:00:00        59  2016-04-12     2         1\n",
       "3  1503960366 2016-04-12 03:00:00        47  2016-04-12     3         1\n",
       "4  1503960366 2016-04-12 04:00:00        48  2016-04-12     4         2"
      ]
     },
     "execution_count": 25,
     "metadata": {},
     "output_type": "execute_result"
    }
   ],
   "source": [
    "df.head()"
   ]
  },
  {
   "cell_type": "code",
   "execution_count": 29,
   "id": "e40aeecf",
   "metadata": {},
   "outputs": [],
   "source": [
    "new=df.drop(['ActivityHour', 'date'], axis=1)"
   ]
  },
  {
   "cell_type": "code",
   "execution_count": 30,
   "id": "ea1921e2",
   "metadata": {},
   "outputs": [
    {
     "data": {
      "text/html": [
       "<div>\n",
       "<style scoped>\n",
       "    .dataframe tbody tr th:only-of-type {\n",
       "        vertical-align: middle;\n",
       "    }\n",
       "\n",
       "    .dataframe tbody tr th {\n",
       "        vertical-align: top;\n",
       "    }\n",
       "\n",
       "    .dataframe thead th {\n",
       "        text-align: right;\n",
       "    }\n",
       "</style>\n",
       "<table border=\"1\" class=\"dataframe\">\n",
       "  <thead>\n",
       "    <tr style=\"text-align: right;\">\n",
       "      <th></th>\n",
       "      <th>Id</th>\n",
       "      <th>Calories</th>\n",
       "      <th>hour</th>\n",
       "      <th>hour_cat</th>\n",
       "    </tr>\n",
       "  </thead>\n",
       "  <tbody>\n",
       "    <tr>\n",
       "      <th>0</th>\n",
       "      <td>1503960366</td>\n",
       "      <td>81</td>\n",
       "      <td>0</td>\n",
       "      <td>1</td>\n",
       "    </tr>\n",
       "    <tr>\n",
       "      <th>1</th>\n",
       "      <td>1503960366</td>\n",
       "      <td>61</td>\n",
       "      <td>1</td>\n",
       "      <td>1</td>\n",
       "    </tr>\n",
       "    <tr>\n",
       "      <th>2</th>\n",
       "      <td>1503960366</td>\n",
       "      <td>59</td>\n",
       "      <td>2</td>\n",
       "      <td>1</td>\n",
       "    </tr>\n",
       "    <tr>\n",
       "      <th>3</th>\n",
       "      <td>1503960366</td>\n",
       "      <td>47</td>\n",
       "      <td>3</td>\n",
       "      <td>1</td>\n",
       "    </tr>\n",
       "    <tr>\n",
       "      <th>4</th>\n",
       "      <td>1503960366</td>\n",
       "      <td>48</td>\n",
       "      <td>4</td>\n",
       "      <td>2</td>\n",
       "    </tr>\n",
       "  </tbody>\n",
       "</table>\n",
       "</div>"
      ],
      "text/plain": [
       "           Id  Calories  hour  hour_cat\n",
       "0  1503960366        81     0         1\n",
       "1  1503960366        61     1         1\n",
       "2  1503960366        59     2         1\n",
       "3  1503960366        47     3         1\n",
       "4  1503960366        48     4         2"
      ]
     },
     "execution_count": 30,
     "metadata": {},
     "output_type": "execute_result"
    }
   ],
   "source": [
    "new.head()"
   ]
  },
  {
   "cell_type": "code",
   "execution_count": 31,
   "id": "de80490b",
   "metadata": {},
   "outputs": [],
   "source": [
    "new.to_csv('/home/sunit.kapuria/data analyst course/case_study_2/new_hourly_category.csv')"
   ]
  },
  {
   "cell_type": "code",
   "execution_count": 14,
   "id": "2a07e150",
   "metadata": {},
   "outputs": [],
   "source": [
    "xx=df.groupby('hour_cat').mean()[['Calories']]"
   ]
  },
  {
   "cell_type": "code",
   "execution_count": 26,
   "id": "d55e4965",
   "metadata": {},
   "outputs": [
    {
     "data": {
      "text/html": [
       "<div>\n",
       "<style scoped>\n",
       "    .dataframe tbody tr th:only-of-type {\n",
       "        vertical-align: middle;\n",
       "    }\n",
       "\n",
       "    .dataframe tbody tr th {\n",
       "        vertical-align: top;\n",
       "    }\n",
       "\n",
       "    .dataframe thead th {\n",
       "        text-align: right;\n",
       "    }\n",
       "</style>\n",
       "<table border=\"1\" class=\"dataframe\">\n",
       "  <thead>\n",
       "    <tr style=\"text-align: right;\">\n",
       "      <th></th>\n",
       "      <th>Calories</th>\n",
       "    </tr>\n",
       "    <tr>\n",
       "      <th>hour_cat</th>\n",
       "      <th></th>\n",
       "    </tr>\n",
       "  </thead>\n",
       "  <tbody>\n",
       "    <tr>\n",
       "      <th>1</th>\n",
       "      <td>69.674257</td>\n",
       "    </tr>\n",
       "    <tr>\n",
       "      <th>2</th>\n",
       "      <td>82.856951</td>\n",
       "    </tr>\n",
       "    <tr>\n",
       "      <th>3</th>\n",
       "      <td>107.432760</td>\n",
       "    </tr>\n",
       "    <tr>\n",
       "      <th>4</th>\n",
       "      <td>113.731721</td>\n",
       "    </tr>\n",
       "    <tr>\n",
       "      <th>5</th>\n",
       "      <td>120.262345</td>\n",
       "    </tr>\n",
       "  </tbody>\n",
       "</table>\n",
       "</div>"
      ],
      "text/plain": [
       "            Calories\n",
       "hour_cat            \n",
       "1          69.674257\n",
       "2          82.856951\n",
       "3         107.432760\n",
       "4         113.731721\n",
       "5         120.262345"
      ]
     },
     "execution_count": 26,
     "metadata": {},
     "output_type": "execute_result"
    }
   ],
   "source": [
    "xx.head()"
   ]
  },
  {
   "cell_type": "code",
   "execution_count": 16,
   "id": "e95f7885",
   "metadata": {},
   "outputs": [
    {
     "data": {
      "text/plain": [
       "[Text(1, 0, '12am-3am'),\n",
       " Text(2, 0, '4am-7am'),\n",
       " Text(3, 0, '8am-11am'),\n",
       " Text(4, 0, '12pm-3pm'),\n",
       " Text(5, 0, '4pm-7pm'),\n",
       " Text(6, 0, '8pm-11pm')]"
      ]
     },
     "execution_count": 16,
     "metadata": {},
     "output_type": "execute_result"
    },
    {
     "data": {
      "image/png": "[encoded data removed]",
      "text/plain": [
       "<Figure size 432x288 with 1 Axes>"
      ]
     },
     "metadata": {
      "needs_background": "light"
     },
     "output_type": "display_data"
    }
   ],
   "source": [
    "fig, ax = plt.subplots()\n",
    "plt.plot(xx, 'o--')\n",
    "plt.xlabel('Time Category')\n",
    "ax.set_xticks((1,2,3,4,5,6))\n",
    "ax.set_xticklabels(('12am-3am', '4am-7am', '8am-11am', '12pm-3pm', '4pm-7pm', '8pm-11pm'))"
   ]
  },
  {
   "cell_type": "markdown",
   "id": "5507f352",
   "metadata": {},
   "source": [
    "This shows that maximum activity is recorded between 8 am to 7pm, with maximum between 4 Pm to 7pm"
   ]
  },
  {
   "cell_type": "markdown",
   "id": "eecc1880",
   "metadata": {},
   "source": [
    "### Users are most active between 8 am to 7pm. with maximum activity betwen 4 pm to 7pm.\n",
    "#### Least activity is in the sleeping hours of 12 am-3am, with gradual increase in the activity"
   ]
  },
  {
   "cell_type": "markdown",
   "id": "ef9052d0",
   "metadata": {},
   "source": [
    "### Lets now check the activity by each hour"
   ]
  },
  {
   "cell_type": "code",
   "execution_count": 18,
   "id": "823916b7",
   "metadata": {},
   "outputs": [],
   "source": [
    "yy=df.groupby('hour').mean()['Calories']"
   ]
  },
  {
   "cell_type": "code",
   "execution_count": 28,
   "id": "f11bda3f",
   "metadata": {},
   "outputs": [
    {
     "data": {
      "text/html": [
       "<div>\n",
       "<style scoped>\n",
       "    .dataframe tbody tr th:only-of-type {\n",
       "        vertical-align: middle;\n",
       "    }\n",
       "\n",
       "    .dataframe tbody tr th {\n",
       "        vertical-align: top;\n",
       "    }\n",
       "\n",
       "    .dataframe thead th {\n",
       "        text-align: right;\n",
       "    }\n",
       "</style>\n",
       "<table border=\"1\" class=\"dataframe\">\n",
       "  <thead>\n",
       "    <tr style=\"text-align: right;\">\n",
       "      <th></th>\n",
       "      <th>Calories</th>\n",
       "    </tr>\n",
       "    <tr>\n",
       "      <th>hour_cat</th>\n",
       "      <th></th>\n",
       "    </tr>\n",
       "  </thead>\n",
       "  <tbody>\n",
       "    <tr>\n",
       "      <th>1</th>\n",
       "      <td>69.674257</td>\n",
       "    </tr>\n",
       "    <tr>\n",
       "      <th>2</th>\n",
       "      <td>82.856951</td>\n",
       "    </tr>\n",
       "    <tr>\n",
       "      <th>3</th>\n",
       "      <td>107.432760</td>\n",
       "    </tr>\n",
       "    <tr>\n",
       "      <th>4</th>\n",
       "      <td>113.731721</td>\n",
       "    </tr>\n",
       "    <tr>\n",
       "      <th>5</th>\n",
       "      <td>120.262345</td>\n",
       "    </tr>\n",
       "  </tbody>\n",
       "</table>\n",
       "</div>"
      ],
      "text/plain": [
       "            Calories\n",
       "hour_cat            \n",
       "1          69.674257\n",
       "2          82.856951\n",
       "3         107.432760\n",
       "4         113.731721\n",
       "5         120.262345"
      ]
     },
     "execution_count": 28,
     "metadata": {},
     "output_type": "execute_result"
    }
   ],
   "source": [
    "xx.head()"
   ]
  },
  {
   "cell_type": "code",
   "execution_count": null,
   "id": "228f3d4d",
   "metadata": {},
   "outputs": [],
   "source": []
  },
  {
   "cell_type": "code",
   "execution_count": 23,
   "id": "43b529d8",
   "metadata": {},
   "outputs": [
    {
     "data": {
      "text/plain": [
       "Text(0.5, 1.0, 'Average calorie burn per hour')"
      ]
     },
     "execution_count": 23,
     "metadata": {},
     "output_type": "execute_result"
    },
    {
     "data": {
      "image/png": "[encoded data removed]",
      "text/plain": [
       "<Figure size 1080x720 with 1 Axes>"
      ]
     },
     "metadata": {
      "needs_background": "light"
     },
     "output_type": "display_data"
    }
   ],
   "source": [
    "fig, ax = plt.subplots(figsize=(15,10))\n",
    "plt.bar(list(range(len(yy))),yy)\n",
    "plt.xlabel('24 hours')\n",
    "plt.ylabel('Calories')\n",
    "ax.set_xticks(yy.index)\n",
    "ax.set_xticklabels(('12am', '1am', '2am', '3am', '4am', '5am', '6am', '7am', '8am', '9am', '10am','11am','12pm','1pm', '2pm', '3pm', '4pm', '5pm', '6pm', '7pm', '8pm', '9pm', '10pm','11pm'))\n",
    "plt.title('Average calorie burn per hour')"
   ]
  },
  {
   "cell_type": "code",
   "execution_count": 59,
   "id": "e4fd27bb",
   "metadata": {},
   "outputs": [
    {
     "data": {
      "text/plain": [
       "hour\n",
       "8     103.337272\n",
       "9     106.142857\n",
       "10    110.460710\n",
       "11    109.806904\n",
       "12    117.197397\n",
       "13    115.309446\n",
       "14    115.732899\n",
       "15    106.637158\n",
       "16    113.327453\n",
       "17    122.752759\n",
       "18    123.492274\n",
       "19    121.484547\n",
       "20    102.357616\n",
       "Name: Calories, dtype: float64"
      ]
     },
     "execution_count": 59,
     "metadata": {},
     "output_type": "execute_result"
    }
   ],
   "source": [
    "yy[yy>100]"
   ]
  },
  {
   "cell_type": "markdown",
   "id": "8fb1a3ca",
   "metadata": {},
   "source": [
    "## This shows that the most active hours of users are between 8 am to 8pm where the average calories burn as above 100 per hour"
   ]
  },
  {
   "cell_type": "code",
   "execution_count": null,
   "id": "444030c0",
   "metadata": {},
   "outputs": [],
   "source": []
  }
 ],
 "metadata": {
  "kernelspec": {
   "display_name": "Python 3 (ipykernel)",
   "language": "python",
   "name": "python3"
  },
  "language_info": {
   "codemirror_mode": {
    "name": "ipython",
    "version": 3
   },
   "file_extension": ".py",
   "mimetype": "text/x-python",
   "name": "python",
   "nbconvert_exporter": "python",
   "pygments_lexer": "ipython3",
   "version": "3.9.7"
  }
 },
 "nbformat": 4,
 "nbformat_minor": 5
}
