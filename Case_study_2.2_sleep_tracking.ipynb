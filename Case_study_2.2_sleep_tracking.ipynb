{
 "cells": [
  {
   "cell_type": "markdown",
   "id": "51ff7ab9",
   "metadata": {},
   "source": [
    "# Case study 2: \n",
    "#2. Understanding the sleep pattern and other important insights\n"
   ]
  },
  {
   "cell_type": "code",
   "execution_count": 2,
   "id": "ac90cab6",
   "metadata": {},
   "outputs": [],
   "source": [
    "import pandas as pd\n",
    "import numpy as np\n",
    "import seaborn as sns\n",
    "import matplotlib.pyplot as plt"
   ]
  },
  {
   "cell_type": "code",
   "execution_count": 3,
   "id": "deffccbf",
   "metadata": {},
   "outputs": [],
   "source": [
    "df=pd.read_csv(\"/home/sunit.kapuria/data analyst course/case_study_2/Fitabase Data 4.12.16-5.12.16/sleepDay_merged.csv\")"
   ]
  },
  {
   "cell_type": "code",
   "execution_count": 4,
   "id": "69a12122",
   "metadata": {},
   "outputs": [
    {
     "data": {
      "text/html": [
       "<div>\n",
       "<style scoped>\n",
       "    .dataframe tbody tr th:only-of-type {\n",
       "        vertical-align: middle;\n",
       "    }\n",
       "\n",
       "    .dataframe tbody tr th {\n",
       "        vertical-align: top;\n",
       "    }\n",
       "\n",
       "    .dataframe thead th {\n",
       "        text-align: right;\n",
       "    }\n",
       "</style>\n",
       "<table border=\"1\" class=\"dataframe\">\n",
       "  <thead>\n",
       "    <tr style=\"text-align: right;\">\n",
       "      <th></th>\n",
       "      <th>Id</th>\n",
       "      <th>SleepDay</th>\n",
       "      <th>TotalSleepRecords</th>\n",
       "      <th>TotalMinutesAsleep</th>\n",
       "      <th>TotalTimeInBed</th>\n",
       "    </tr>\n",
       "  </thead>\n",
       "  <tbody>\n",
       "    <tr>\n",
       "      <th>0</th>\n",
       "      <td>1503960366</td>\n",
       "      <td>4/12/2016 12:00:00 AM</td>\n",
       "      <td>1</td>\n",
       "      <td>327</td>\n",
       "      <td>346</td>\n",
       "    </tr>\n",
       "    <tr>\n",
       "      <th>1</th>\n",
       "      <td>1503960366</td>\n",
       "      <td>4/13/2016 12:00:00 AM</td>\n",
       "      <td>2</td>\n",
       "      <td>384</td>\n",
       "      <td>407</td>\n",
       "    </tr>\n",
       "    <tr>\n",
       "      <th>2</th>\n",
       "      <td>1503960366</td>\n",
       "      <td>4/15/2016 12:00:00 AM</td>\n",
       "      <td>1</td>\n",
       "      <td>412</td>\n",
       "      <td>442</td>\n",
       "    </tr>\n",
       "    <tr>\n",
       "      <th>3</th>\n",
       "      <td>1503960366</td>\n",
       "      <td>4/16/2016 12:00:00 AM</td>\n",
       "      <td>2</td>\n",
       "      <td>340</td>\n",
       "      <td>367</td>\n",
       "    </tr>\n",
       "    <tr>\n",
       "      <th>4</th>\n",
       "      <td>1503960366</td>\n",
       "      <td>4/17/2016 12:00:00 AM</td>\n",
       "      <td>1</td>\n",
       "      <td>700</td>\n",
       "      <td>712</td>\n",
       "    </tr>\n",
       "  </tbody>\n",
       "</table>\n",
       "</div>"
      ],
      "text/plain": [
       "           Id               SleepDay  TotalSleepRecords  TotalMinutesAsleep  \\\n",
       "0  1503960366  4/12/2016 12:00:00 AM                  1                 327   \n",
       "1  1503960366  4/13/2016 12:00:00 AM                  2                 384   \n",
       "2  1503960366  4/15/2016 12:00:00 AM                  1                 412   \n",
       "3  1503960366  4/16/2016 12:00:00 AM                  2                 340   \n",
       "4  1503960366  4/17/2016 12:00:00 AM                  1                 700   \n",
       "\n",
       "   TotalTimeInBed  \n",
       "0             346  \n",
       "1             407  \n",
       "2             442  \n",
       "3             367  \n",
       "4             712  "
      ]
     },
     "execution_count": 4,
     "metadata": {},
     "output_type": "execute_result"
    }
   ],
   "source": [
    "df.head()"
   ]
  },
  {
   "cell_type": "code",
   "execution_count": 5,
   "id": "fc7fa6c5",
   "metadata": {},
   "outputs": [
    {
     "name": "stdout",
     "output_type": "stream",
     "text": [
      "<class 'pandas.core.frame.DataFrame'>\n",
      "RangeIndex: 413 entries, 0 to 412\n",
      "Data columns (total 5 columns):\n",
      " #   Column              Non-Null Count  Dtype \n",
      "---  ------              --------------  ----- \n",
      " 0   Id                  413 non-null    int64 \n",
      " 1   SleepDay            413 non-null    object\n",
      " 2   TotalSleepRecords   413 non-null    int64 \n",
      " 3   TotalMinutesAsleep  413 non-null    int64 \n",
      " 4   TotalTimeInBed      413 non-null    int64 \n",
      "dtypes: int64(4), object(1)\n",
      "memory usage: 16.3+ KB\n"
     ]
    }
   ],
   "source": [
    "df.info()"
   ]
  },
  {
   "cell_type": "code",
   "execution_count": 6,
   "id": "b26a4130",
   "metadata": {},
   "outputs": [
    {
     "data": {
      "text/plain": [
       "24"
      ]
     },
     "execution_count": 6,
     "metadata": {},
     "output_type": "execute_result"
    }
   ],
   "source": [
    "df['Id'].nunique()"
   ]
  },
  {
   "cell_type": "markdown",
   "id": "57deeb7c",
   "metadata": {},
   "source": [
    "### we have sleep data for 24 users out of total 34 users. \n",
    "* This shows that some of the users are not comfortable wearing the smartdevice while sleeping\n",
    "* The analysis will have to be carried on the 24 users "
   ]
  },
  {
   "cell_type": "markdown",
   "id": "978680ac",
   "metadata": {},
   "source": [
    "\"SleepDay\" is in object format, lets change that into DateTime format. Also its a per day data so we can drop the time part of the Datetime values."
   ]
  },
  {
   "cell_type": "code",
   "execution_count": 5,
   "id": "35b92350",
   "metadata": {},
   "outputs": [],
   "source": [
    "df['SleepDay']=pd.to_datetime(df['SleepDay'])"
   ]
  },
  {
   "cell_type": "code",
   "execution_count": 6,
   "id": "c84ffe77",
   "metadata": {},
   "outputs": [
    {
     "name": "stdout",
     "output_type": "stream",
     "text": [
      "<class 'pandas.core.frame.DataFrame'>\n",
      "RangeIndex: 413 entries, 0 to 412\n",
      "Data columns (total 5 columns):\n",
      " #   Column              Non-Null Count  Dtype         \n",
      "---  ------              --------------  -----         \n",
      " 0   Id                  413 non-null    int64         \n",
      " 1   SleepDay            413 non-null    datetime64[ns]\n",
      " 2   TotalSleepRecords   413 non-null    int64         \n",
      " 3   TotalMinutesAsleep  413 non-null    int64         \n",
      " 4   TotalTimeInBed      413 non-null    int64         \n",
      "dtypes: datetime64[ns](1), int64(4)\n",
      "memory usage: 16.3 KB\n"
     ]
    }
   ],
   "source": [
    "df.info()"
   ]
  },
  {
   "cell_type": "code",
   "execution_count": 8,
   "id": "c13e4dd2",
   "metadata": {},
   "outputs": [],
   "source": [
    "df['SleepDay']=df['SleepDay'].apply(lambda x: x.date())"
   ]
  },
  {
   "cell_type": "code",
   "execution_count": 9,
   "id": "9f5d6bed",
   "metadata": {},
   "outputs": [
    {
     "data": {
      "text/html": [
       "<div>\n",
       "<style scoped>\n",
       "    .dataframe tbody tr th:only-of-type {\n",
       "        vertical-align: middle;\n",
       "    }\n",
       "\n",
       "    .dataframe tbody tr th {\n",
       "        vertical-align: top;\n",
       "    }\n",
       "\n",
       "    .dataframe thead th {\n",
       "        text-align: right;\n",
       "    }\n",
       "</style>\n",
       "<table border=\"1\" class=\"dataframe\">\n",
       "  <thead>\n",
       "    <tr style=\"text-align: right;\">\n",
       "      <th></th>\n",
       "      <th>Id</th>\n",
       "      <th>SleepDay</th>\n",
       "      <th>TotalSleepRecords</th>\n",
       "      <th>TotalMinutesAsleep</th>\n",
       "      <th>TotalTimeInBed</th>\n",
       "    </tr>\n",
       "  </thead>\n",
       "  <tbody>\n",
       "    <tr>\n",
       "      <th>0</th>\n",
       "      <td>1503960366</td>\n",
       "      <td>2016-04-12</td>\n",
       "      <td>1</td>\n",
       "      <td>327</td>\n",
       "      <td>346</td>\n",
       "    </tr>\n",
       "    <tr>\n",
       "      <th>1</th>\n",
       "      <td>1503960366</td>\n",
       "      <td>2016-04-13</td>\n",
       "      <td>2</td>\n",
       "      <td>384</td>\n",
       "      <td>407</td>\n",
       "    </tr>\n",
       "    <tr>\n",
       "      <th>2</th>\n",
       "      <td>1503960366</td>\n",
       "      <td>2016-04-15</td>\n",
       "      <td>1</td>\n",
       "      <td>412</td>\n",
       "      <td>442</td>\n",
       "    </tr>\n",
       "    <tr>\n",
       "      <th>3</th>\n",
       "      <td>1503960366</td>\n",
       "      <td>2016-04-16</td>\n",
       "      <td>2</td>\n",
       "      <td>340</td>\n",
       "      <td>367</td>\n",
       "    </tr>\n",
       "    <tr>\n",
       "      <th>4</th>\n",
       "      <td>1503960366</td>\n",
       "      <td>2016-04-17</td>\n",
       "      <td>1</td>\n",
       "      <td>700</td>\n",
       "      <td>712</td>\n",
       "    </tr>\n",
       "  </tbody>\n",
       "</table>\n",
       "</div>"
      ],
      "text/plain": [
       "           Id    SleepDay  TotalSleepRecords  TotalMinutesAsleep  \\\n",
       "0  1503960366  2016-04-12                  1                 327   \n",
       "1  1503960366  2016-04-13                  2                 384   \n",
       "2  1503960366  2016-04-15                  1                 412   \n",
       "3  1503960366  2016-04-16                  2                 340   \n",
       "4  1503960366  2016-04-17                  1                 700   \n",
       "\n",
       "   TotalTimeInBed  \n",
       "0             346  \n",
       "1             407  \n",
       "2             442  \n",
       "3             367  \n",
       "4             712  "
      ]
     },
     "execution_count": 9,
     "metadata": {},
     "output_type": "execute_result"
    }
   ],
   "source": [
    "df.head()"
   ]
  },
  {
   "cell_type": "code",
   "execution_count": 26,
   "id": "ca4f9fdf",
   "metadata": {},
   "outputs": [
    {
     "data": {
      "image/png": "[encoded data removed]",
      "text/plain": [
       "<Figure size 432x288 with 1 Axes>"
      ]
     },
     "metadata": {
      "needs_background": "light"
     },
     "output_type": "display_data"
    }
   ],
   "source": [
    "gb=sns.countplot(x='Id', data=df)\n"
   ]
  },
  {
   "cell_type": "markdown",
   "id": "8c0fa82d",
   "metadata": {},
   "source": [
    "#### Lets see how many records of sleep are there for each user"
   ]
  },
  {
   "cell_type": "code",
   "execution_count": 7,
   "id": "78b90e0c",
   "metadata": {},
   "outputs": [
    {
     "data": {
      "text/plain": [
       "Id\n",
       "8378563200    32\n",
       "6962181067    31\n",
       "5553957443    31\n",
       "4702921684    28\n",
       "2026352035    28\n",
       "3977333714    28\n",
       "4445114986    28\n",
       "5577150313    26\n",
       "4319703577    26\n",
       "1503960366    25\n",
       "7086361926    24\n",
       "4388161847    24\n",
       "6117666160    18\n",
       "8792009665    15\n",
       "2347167796    15\n",
       "4020332650     8\n",
       "1927972279     5\n",
       "4558609924     5\n",
       "1644430081     4\n",
       "6775888955     3\n",
       "8053475328     3\n",
       "1844505072     3\n",
       "7007744171     2\n",
       "2320127002     1\n",
       "Name: SleepDay, dtype: int64"
      ]
     },
     "execution_count": 7,
     "metadata": {},
     "output_type": "execute_result"
    }
   ],
   "source": [
    "x=pd.Series(df.groupby('Id').count()['SleepDay'])\n",
    "x.sort_values(ascending=False)"
   ]
  },
  {
   "cell_type": "code",
   "execution_count": 12,
   "id": "a6ba3d34",
   "metadata": {},
   "outputs": [
    {
     "data": {
      "text/plain": [
       "9"
      ]
     },
     "execution_count": 12,
     "metadata": {},
     "output_type": "execute_result"
    }
   ],
   "source": [
    "(x<10).sum()"
   ]
  },
  {
   "cell_type": "code",
   "execution_count": 16,
   "id": "b743e977",
   "metadata": {},
   "outputs": [
    {
     "data": {
      "text/plain": [
       "0.16129032258064516"
      ]
     },
     "execution_count": 16,
     "metadata": {},
     "output_type": "execute_result"
    }
   ],
   "source": [
    "10/62"
   ]
  },
  {
   "cell_type": "markdown",
   "id": "35ff8b67",
   "metadata": {},
   "source": [
    "* This shows that some of the users have actively used the device to track the sleep cycle while many of the users have hardly used it to track the sleep."
   ]
  },
  {
   "cell_type": "markdown",
   "id": "c47ca03c",
   "metadata": {},
   "source": [
    "Lets now see how many what is the average minutes of sleep Vs average minutes of time in bed for the uses"
   ]
  },
  {
   "cell_type": "code",
   "execution_count": 8,
   "id": "dab507cb",
   "metadata": {},
   "outputs": [],
   "source": [
    "gg=df.groupby(\"Id\").mean()[['TotalMinutesAsleep', 'TotalTimeInBed']]"
   ]
  },
  {
   "cell_type": "code",
   "execution_count": 9,
   "id": "f299acd7",
   "metadata": {},
   "outputs": [
    {
     "data": {
      "text/html": [
       "<div>\n",
       "<style scoped>\n",
       "    .dataframe tbody tr th:only-of-type {\n",
       "        vertical-align: middle;\n",
       "    }\n",
       "\n",
       "    .dataframe tbody tr th {\n",
       "        vertical-align: top;\n",
       "    }\n",
       "\n",
       "    .dataframe thead th {\n",
       "        text-align: right;\n",
       "    }\n",
       "</style>\n",
       "<table border=\"1\" class=\"dataframe\">\n",
       "  <thead>\n",
       "    <tr style=\"text-align: right;\">\n",
       "      <th></th>\n",
       "      <th>TotalMinutesAsleep</th>\n",
       "      <th>TotalTimeInBed</th>\n",
       "    </tr>\n",
       "    <tr>\n",
       "      <th>Id</th>\n",
       "      <th></th>\n",
       "      <th></th>\n",
       "    </tr>\n",
       "  </thead>\n",
       "  <tbody>\n",
       "    <tr>\n",
       "      <th>1503960366</th>\n",
       "      <td>360.28</td>\n",
       "      <td>383.2</td>\n",
       "    </tr>\n",
       "    <tr>\n",
       "      <th>1644430081</th>\n",
       "      <td>294.00</td>\n",
       "      <td>346.0</td>\n",
       "    </tr>\n",
       "  </tbody>\n",
       "</table>\n",
       "</div>"
      ],
      "text/plain": [
       "            TotalMinutesAsleep  TotalTimeInBed\n",
       "Id                                            \n",
       "1503960366              360.28           383.2\n",
       "1644430081              294.00           346.0"
      ]
     },
     "execution_count": 9,
     "metadata": {},
     "output_type": "execute_result"
    }
   ],
   "source": [
    "gg.head(2)"
   ]
  },
  {
   "cell_type": "code",
   "execution_count": 17,
   "id": "12515ace",
   "metadata": {},
   "outputs": [
    {
     "data": {
      "text/plain": [
       "Text(0.5, 1.0, 'Sleep Vs time in bed')"
      ]
     },
     "execution_count": 17,
     "metadata": {},
     "output_type": "execute_result"
    },
    {
     "data": {
      "text/plain": [
       "<Figure size 432x288 with 0 Axes>"
      ]
     },
     "metadata": {},
     "output_type": "display_data"
    },
    {
     "data": {
      "image/png": "[encoded data removed]",
      "text/plain": [
       "<Figure size 576x576 with 1 Axes>"
      ]
     },
     "metadata": {
      "needs_background": "light"
     },
     "output_type": "display_data"
    }
   ],
   "source": [
    "fig=plt.figure()\n",
    "gb=sns.lmplot(x='TotalMinutesAsleep', y='TotalTimeInBed',data=gg, fit_reg=True)\n",
    "gb.fig.set_figwidth(8)\n",
    "gb.fig.set_figheight(8)\n",
    "plt.title('Sleep Vs time in bed')"
   ]
  },
  {
   "cell_type": "code",
   "execution_count": 19,
   "id": "a53f28db",
   "metadata": {},
   "outputs": [],
   "source": [
    "gb.savefig('/home/sunit.kapuria/data analyst course/case_study_2/sleep.png')"
   ]
  },
  {
   "cell_type": "markdown",
   "id": "f14b6846",
   "metadata": {},
   "source": [
    "### There is a clear positive correlation between the sleep and time in bed , except few outliers. \n",
    "* lets calculate the positive correlation value"
   ]
  },
  {
   "cell_type": "code",
   "execution_count": 42,
   "id": "54c7320c",
   "metadata": {},
   "outputs": [],
   "source": [
    "import statistics\n",
    "from scipy.stats import pearsonr"
   ]
  },
  {
   "cell_type": "code",
   "execution_count": 43,
   "id": "859e5321",
   "metadata": {},
   "outputs": [
    {
     "name": "stdout",
     "output_type": "stream",
     "text": [
      "0.940\n"
     ]
    }
   ],
   "source": [
    "list1=gg['TotalMinutesAsleep']\n",
    "list2=gg['TotalTimeInBed']\n",
    "corr, _ = pearsonr(list1, list2)\n",
    "print('%.3f' % corr)"
   ]
  },
  {
   "cell_type": "markdown",
   "id": "686adb4d",
   "metadata": {},
   "source": [
    "### positive correlation 0.94"
   ]
  },
  {
   "cell_type": "markdown",
   "id": "cf874cbf",
   "metadata": {},
   "source": [
    "Lets concat the count of sleeps, with the new dataframe \"gg\""
   ]
  },
  {
   "cell_type": "code",
   "execution_count": 44,
   "id": "526b9e72",
   "metadata": {},
   "outputs": [],
   "source": [
    "new_df=pd.concat([gg,x], axis=1)"
   ]
  },
  {
   "cell_type": "code",
   "execution_count": 52,
   "id": "98116cc2",
   "metadata": {},
   "outputs": [
    {
     "data": {
      "text/html": [
       "<div>\n",
       "<style scoped>\n",
       "    .dataframe tbody tr th:only-of-type {\n",
       "        vertical-align: middle;\n",
       "    }\n",
       "\n",
       "    .dataframe tbody tr th {\n",
       "        vertical-align: top;\n",
       "    }\n",
       "\n",
       "    .dataframe thead th {\n",
       "        text-align: right;\n",
       "    }\n",
       "</style>\n",
       "<table border=\"1\" class=\"dataframe\">\n",
       "  <thead>\n",
       "    <tr style=\"text-align: right;\">\n",
       "      <th></th>\n",
       "      <th>Id</th>\n",
       "      <th>TotalMinutesAsleep</th>\n",
       "      <th>TotalTimeInBed</th>\n",
       "      <th>count_sleepday</th>\n",
       "    </tr>\n",
       "  </thead>\n",
       "  <tbody>\n",
       "    <tr>\n",
       "      <th>0</th>\n",
       "      <td>1503960366</td>\n",
       "      <td>360.280000</td>\n",
       "      <td>383.200000</td>\n",
       "      <td>25</td>\n",
       "    </tr>\n",
       "    <tr>\n",
       "      <th>1</th>\n",
       "      <td>1644430081</td>\n",
       "      <td>294.000000</td>\n",
       "      <td>346.000000</td>\n",
       "      <td>4</td>\n",
       "    </tr>\n",
       "    <tr>\n",
       "      <th>2</th>\n",
       "      <td>1844505072</td>\n",
       "      <td>652.000000</td>\n",
       "      <td>961.000000</td>\n",
       "      <td>3</td>\n",
       "    </tr>\n",
       "    <tr>\n",
       "      <th>3</th>\n",
       "      <td>1927972279</td>\n",
       "      <td>417.000000</td>\n",
       "      <td>437.800000</td>\n",
       "      <td>5</td>\n",
       "    </tr>\n",
       "    <tr>\n",
       "      <th>4</th>\n",
       "      <td>2026352035</td>\n",
       "      <td>506.178571</td>\n",
       "      <td>537.642857</td>\n",
       "      <td>28</td>\n",
       "    </tr>\n",
       "  </tbody>\n",
       "</table>\n",
       "</div>"
      ],
      "text/plain": [
       "           Id  TotalMinutesAsleep  TotalTimeInBed  count_sleepday\n",
       "0  1503960366          360.280000      383.200000              25\n",
       "1  1644430081          294.000000      346.000000               4\n",
       "2  1844505072          652.000000      961.000000               3\n",
       "3  1927972279          417.000000      437.800000               5\n",
       "4  2026352035          506.178571      537.642857              28"
      ]
     },
     "execution_count": 52,
     "metadata": {},
     "output_type": "execute_result"
    }
   ],
   "source": [
    "new_df.head(5)"
   ]
  },
  {
   "cell_type": "code",
   "execution_count": 47,
   "id": "4d33361f",
   "metadata": {},
   "outputs": [],
   "source": [
    "new_df.reset_index(inplace=True)"
   ]
  },
  {
   "cell_type": "code",
   "execution_count": 51,
   "id": "f91035c4",
   "metadata": {},
   "outputs": [],
   "source": [
    "new_df.rename(columns={'SleepDay':\"count_sleepday\"}, inplace=True)"
   ]
  },
  {
   "cell_type": "markdown",
   "id": "c7f80175",
   "metadata": {},
   "source": [
    "Lets save this new agregrated csv file for futher analysis through visualization"
   ]
  },
  {
   "cell_type": "code",
   "execution_count": 53,
   "id": "60864bd8",
   "metadata": {},
   "outputs": [],
   "source": [
    "new_df.to_csv(\"/home/sunit.kapuria/data analyst course/case_study_2/new_sleep.csv\", index=False)"
   ]
  },
  {
   "cell_type": "code",
   "execution_count": null,
   "id": "c5daef70",
   "metadata": {},
   "outputs": [],
   "source": []
  }
 ],
 "metadata": {
  "kernelspec": {
   "display_name": "Python 3 (ipykernel)",
   "language": "python",
   "name": "python3"
  },
  "language_info": {
   "codemirror_mode": {
    "name": "ipython",
    "version": 3
   },
   "file_extension": ".py",
   "mimetype": "text/x-python",
   "name": "python",
   "nbconvert_exporter": "python",
   "pygments_lexer": "ipython3",
   "version": "3.9.7"
  }
 },
 "nbformat": 4,
 "nbformat_minor": 5
}
