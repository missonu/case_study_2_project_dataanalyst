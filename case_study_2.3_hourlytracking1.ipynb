{
 "cells": [
  {
   "cell_type": "markdown",
   "id": "facf1fa3",
   "metadata": {},
   "source": [
    "# case study 2.3\n",
    "### Analysis of the hourly details of the users\n",
    "* we have three hourly details of the users, hourly calories, hourly intensities, hourly steps"
   ]
  },
  {
   "cell_type": "code",
   "execution_count": 1,
   "id": "7e39a0d7",
   "metadata": {},
   "outputs": [],
   "source": [
    "import pandas as pd\n",
    "import numpy as np\n",
    "import seaborn as sns\n",
    "import matplotlib.pyplot as plt"
   ]
  },
  {
   "cell_type": "code",
   "execution_count": 2,
   "id": "db7e46d5",
   "metadata": {},
   "outputs": [],
   "source": [
    "df=pd.read_csv(\"/home/sunit.kapuria/data analyst course/case_study_2/Fitabase Data 4.12.16-5.12.16/hourlyCalories_merged.csv\")"
   ]
  },
  {
   "cell_type": "code",
   "execution_count": 5,
   "id": "5f1e2195",
   "metadata": {},
   "outputs": [],
   "source": [
    "df1=pd.read_csv(\"/home/sunit.kapuria/data analyst course/case_study_2/Fitabase Data 4.12.16-5.12.16/hourlyIntensities_merged.csv\")"
   ]
  },
  {
   "cell_type": "code",
   "execution_count": 112,
   "id": "b81e5b91",
   "metadata": {},
   "outputs": [],
   "source": [
    "df2=pd.read_csv(\"/home/sunit.kapuria/data analyst course/case_study_2/Fitabase Data 4.12.16-5.12.16/hourlySteps_merged.csv\")"
   ]
  },
  {
   "cell_type": "code",
   "execution_count": 138,
   "id": "82eb123f",
   "metadata": {},
   "outputs": [
    {
     "data": {
      "text/html": [
       "<div>\n",
       "<style scoped>\n",
       "    .dataframe tbody tr th:only-of-type {\n",
       "        vertical-align: middle;\n",
       "    }\n",
       "\n",
       "    .dataframe tbody tr th {\n",
       "        vertical-align: top;\n",
       "    }\n",
       "\n",
       "    .dataframe thead th {\n",
       "        text-align: right;\n",
       "    }\n",
       "</style>\n",
       "<table border=\"1\" class=\"dataframe\">\n",
       "  <thead>\n",
       "    <tr style=\"text-align: right;\">\n",
       "      <th></th>\n",
       "      <th>Id</th>\n",
       "      <th>ActivityHour</th>\n",
       "      <th>Calories</th>\n",
       "    </tr>\n",
       "  </thead>\n",
       "  <tbody>\n",
       "    <tr>\n",
       "      <th>0</th>\n",
       "      <td>1503960366</td>\n",
       "      <td>2016-04-12 00:00:00</td>\n",
       "      <td>81</td>\n",
       "    </tr>\n",
       "    <tr>\n",
       "      <th>1</th>\n",
       "      <td>1503960366</td>\n",
       "      <td>2016-04-12 01:00:00</td>\n",
       "      <td>61</td>\n",
       "    </tr>\n",
       "    <tr>\n",
       "      <th>2</th>\n",
       "      <td>1503960366</td>\n",
       "      <td>2016-04-12 02:00:00</td>\n",
       "      <td>59</td>\n",
       "    </tr>\n",
       "    <tr>\n",
       "      <th>3</th>\n",
       "      <td>1503960366</td>\n",
       "      <td>2016-04-12 03:00:00</td>\n",
       "      <td>47</td>\n",
       "    </tr>\n",
       "    <tr>\n",
       "      <th>4</th>\n",
       "      <td>1503960366</td>\n",
       "      <td>2016-04-12 04:00:00</td>\n",
       "      <td>48</td>\n",
       "    </tr>\n",
       "    <tr>\n",
       "      <th>5</th>\n",
       "      <td>1503960366</td>\n",
       "      <td>2016-04-12 05:00:00</td>\n",
       "      <td>48</td>\n",
       "    </tr>\n",
       "    <tr>\n",
       "      <th>6</th>\n",
       "      <td>1503960366</td>\n",
       "      <td>2016-04-12 06:00:00</td>\n",
       "      <td>48</td>\n",
       "    </tr>\n",
       "    <tr>\n",
       "      <th>7</th>\n",
       "      <td>1503960366</td>\n",
       "      <td>2016-04-12 07:00:00</td>\n",
       "      <td>47</td>\n",
       "    </tr>\n",
       "    <tr>\n",
       "      <th>8</th>\n",
       "      <td>1503960366</td>\n",
       "      <td>2016-04-12 08:00:00</td>\n",
       "      <td>68</td>\n",
       "    </tr>\n",
       "    <tr>\n",
       "      <th>9</th>\n",
       "      <td>1503960366</td>\n",
       "      <td>2016-04-12 09:00:00</td>\n",
       "      <td>141</td>\n",
       "    </tr>\n",
       "    <tr>\n",
       "      <th>10</th>\n",
       "      <td>1503960366</td>\n",
       "      <td>2016-04-12 10:00:00</td>\n",
       "      <td>99</td>\n",
       "    </tr>\n",
       "    <tr>\n",
       "      <th>11</th>\n",
       "      <td>1503960366</td>\n",
       "      <td>2016-04-12 11:00:00</td>\n",
       "      <td>76</td>\n",
       "    </tr>\n",
       "    <tr>\n",
       "      <th>12</th>\n",
       "      <td>1503960366</td>\n",
       "      <td>2016-04-12 12:00:00</td>\n",
       "      <td>73</td>\n",
       "    </tr>\n",
       "    <tr>\n",
       "      <th>13</th>\n",
       "      <td>1503960366</td>\n",
       "      <td>2016-04-12 13:00:00</td>\n",
       "      <td>66</td>\n",
       "    </tr>\n",
       "    <tr>\n",
       "      <th>14</th>\n",
       "      <td>1503960366</td>\n",
       "      <td>2016-04-12 14:00:00</td>\n",
       "      <td>110</td>\n",
       "    </tr>\n",
       "    <tr>\n",
       "      <th>15</th>\n",
       "      <td>1503960366</td>\n",
       "      <td>2016-04-12 15:00:00</td>\n",
       "      <td>151</td>\n",
       "    </tr>\n",
       "    <tr>\n",
       "      <th>16</th>\n",
       "      <td>1503960366</td>\n",
       "      <td>2016-04-12 16:00:00</td>\n",
       "      <td>76</td>\n",
       "    </tr>\n",
       "    <tr>\n",
       "      <th>17</th>\n",
       "      <td>1503960366</td>\n",
       "      <td>2016-04-12 17:00:00</td>\n",
       "      <td>83</td>\n",
       "    </tr>\n",
       "    <tr>\n",
       "      <th>18</th>\n",
       "      <td>1503960366</td>\n",
       "      <td>2016-04-12 18:00:00</td>\n",
       "      <td>124</td>\n",
       "    </tr>\n",
       "    <tr>\n",
       "      <th>19</th>\n",
       "      <td>1503960366</td>\n",
       "      <td>2016-04-12 19:00:00</td>\n",
       "      <td>104</td>\n",
       "    </tr>\n",
       "    <tr>\n",
       "      <th>20</th>\n",
       "      <td>1503960366</td>\n",
       "      <td>2016-04-12 20:00:00</td>\n",
       "      <td>132</td>\n",
       "    </tr>\n",
       "    <tr>\n",
       "      <th>21</th>\n",
       "      <td>1503960366</td>\n",
       "      <td>2016-04-12 21:00:00</td>\n",
       "      <td>100</td>\n",
       "    </tr>\n",
       "    <tr>\n",
       "      <th>22</th>\n",
       "      <td>1503960366</td>\n",
       "      <td>2016-04-12 22:00:00</td>\n",
       "      <td>65</td>\n",
       "    </tr>\n",
       "    <tr>\n",
       "      <th>23</th>\n",
       "      <td>1503960366</td>\n",
       "      <td>2016-04-12 23:00:00</td>\n",
       "      <td>81</td>\n",
       "    </tr>\n",
       "  </tbody>\n",
       "</table>\n",
       "</div>"
      ],
      "text/plain": [
       "            Id        ActivityHour  Calories\n",
       "0   1503960366 2016-04-12 00:00:00        81\n",
       "1   1503960366 2016-04-12 01:00:00        61\n",
       "2   1503960366 2016-04-12 02:00:00        59\n",
       "3   1503960366 2016-04-12 03:00:00        47\n",
       "4   1503960366 2016-04-12 04:00:00        48\n",
       "5   1503960366 2016-04-12 05:00:00        48\n",
       "6   1503960366 2016-04-12 06:00:00        48\n",
       "7   1503960366 2016-04-12 07:00:00        47\n",
       "8   1503960366 2016-04-12 08:00:00        68\n",
       "9   1503960366 2016-04-12 09:00:00       141\n",
       "10  1503960366 2016-04-12 10:00:00        99\n",
       "11  1503960366 2016-04-12 11:00:00        76\n",
       "12  1503960366 2016-04-12 12:00:00        73\n",
       "13  1503960366 2016-04-12 13:00:00        66\n",
       "14  1503960366 2016-04-12 14:00:00       110\n",
       "15  1503960366 2016-04-12 15:00:00       151\n",
       "16  1503960366 2016-04-12 16:00:00        76\n",
       "17  1503960366 2016-04-12 17:00:00        83\n",
       "18  1503960366 2016-04-12 18:00:00       124\n",
       "19  1503960366 2016-04-12 19:00:00       104\n",
       "20  1503960366 2016-04-12 20:00:00       132\n",
       "21  1503960366 2016-04-12 21:00:00       100\n",
       "22  1503960366 2016-04-12 22:00:00        65\n",
       "23  1503960366 2016-04-12 23:00:00        81"
      ]
     },
     "execution_count": 138,
     "metadata": {},
     "output_type": "execute_result"
    }
   ],
   "source": [
    "df.head(24)"
   ]
  },
  {
   "cell_type": "code",
   "execution_count": 3,
   "id": "98beee2c",
   "metadata": {},
   "outputs": [
    {
     "data": {
      "text/plain": [
       "33"
      ]
     },
     "execution_count": 3,
     "metadata": {},
     "output_type": "execute_result"
    }
   ],
   "source": [
    "df['Id'].nunique()"
   ]
  },
  {
   "cell_type": "markdown",
   "id": "fd83145d",
   "metadata": {},
   "source": [
    "* Hourly details of users are avilable for all 33 users"
   ]
  },
  {
   "cell_type": "code",
   "execution_count": 8,
   "id": "154bbfb7",
   "metadata": {},
   "outputs": [
    {
     "name": "stdout",
     "output_type": "stream",
     "text": [
      "<class 'pandas.core.frame.DataFrame'>\n",
      "RangeIndex: 22099 entries, 0 to 22098\n",
      "Data columns (total 3 columns):\n",
      " #   Column        Non-Null Count  Dtype \n",
      "---  ------        --------------  ----- \n",
      " 0   Id            22099 non-null  int64 \n",
      " 1   ActivityHour  22099 non-null  object\n",
      " 2   Calories      22099 non-null  int64 \n",
      "dtypes: int64(2), object(1)\n",
      "memory usage: 518.1+ KB\n"
     ]
    }
   ],
   "source": [
    "df.info()"
   ]
  },
  {
   "cell_type": "code",
   "execution_count": 9,
   "id": "f92b7e51",
   "metadata": {},
   "outputs": [
    {
     "data": {
      "text/html": [
       "<div>\n",
       "<style scoped>\n",
       "    .dataframe tbody tr th:only-of-type {\n",
       "        vertical-align: middle;\n",
       "    }\n",
       "\n",
       "    .dataframe tbody tr th {\n",
       "        vertical-align: top;\n",
       "    }\n",
       "\n",
       "    .dataframe thead th {\n",
       "        text-align: right;\n",
       "    }\n",
       "</style>\n",
       "<table border=\"1\" class=\"dataframe\">\n",
       "  <thead>\n",
       "    <tr style=\"text-align: right;\">\n",
       "      <th></th>\n",
       "      <th>Id</th>\n",
       "      <th>ActivityHour</th>\n",
       "      <th>TotalIntensity</th>\n",
       "      <th>AverageIntensity</th>\n",
       "    </tr>\n",
       "  </thead>\n",
       "  <tbody>\n",
       "    <tr>\n",
       "      <th>0</th>\n",
       "      <td>1503960366</td>\n",
       "      <td>4/12/2016 12:00:00 AM</td>\n",
       "      <td>20</td>\n",
       "      <td>0.333333</td>\n",
       "    </tr>\n",
       "    <tr>\n",
       "      <th>1</th>\n",
       "      <td>1503960366</td>\n",
       "      <td>4/12/2016 1:00:00 AM</td>\n",
       "      <td>8</td>\n",
       "      <td>0.133333</td>\n",
       "    </tr>\n",
       "  </tbody>\n",
       "</table>\n",
       "</div>"
      ],
      "text/plain": [
       "           Id           ActivityHour  TotalIntensity  AverageIntensity\n",
       "0  1503960366  4/12/2016 12:00:00 AM              20          0.333333\n",
       "1  1503960366   4/12/2016 1:00:00 AM               8          0.133333"
      ]
     },
     "execution_count": 9,
     "metadata": {},
     "output_type": "execute_result"
    }
   ],
   "source": [
    "df1.head(2)"
   ]
  },
  {
   "cell_type": "code",
   "execution_count": 10,
   "id": "2466934b",
   "metadata": {},
   "outputs": [
    {
     "data": {
      "text/html": [
       "<div>\n",
       "<style scoped>\n",
       "    .dataframe tbody tr th:only-of-type {\n",
       "        vertical-align: middle;\n",
       "    }\n",
       "\n",
       "    .dataframe tbody tr th {\n",
       "        vertical-align: top;\n",
       "    }\n",
       "\n",
       "    .dataframe thead th {\n",
       "        text-align: right;\n",
       "    }\n",
       "</style>\n",
       "<table border=\"1\" class=\"dataframe\">\n",
       "  <thead>\n",
       "    <tr style=\"text-align: right;\">\n",
       "      <th></th>\n",
       "      <th>Id</th>\n",
       "      <th>ActivityHour</th>\n",
       "      <th>StepTotal</th>\n",
       "    </tr>\n",
       "  </thead>\n",
       "  <tbody>\n",
       "    <tr>\n",
       "      <th>0</th>\n",
       "      <td>1503960366</td>\n",
       "      <td>4/12/2016 12:00:00 AM</td>\n",
       "      <td>373</td>\n",
       "    </tr>\n",
       "    <tr>\n",
       "      <th>1</th>\n",
       "      <td>1503960366</td>\n",
       "      <td>4/12/2016 1:00:00 AM</td>\n",
       "      <td>160</td>\n",
       "    </tr>\n",
       "    <tr>\n",
       "      <th>2</th>\n",
       "      <td>1503960366</td>\n",
       "      <td>4/12/2016 2:00:00 AM</td>\n",
       "      <td>151</td>\n",
       "    </tr>\n",
       "  </tbody>\n",
       "</table>\n",
       "</div>"
      ],
      "text/plain": [
       "           Id           ActivityHour  StepTotal\n",
       "0  1503960366  4/12/2016 12:00:00 AM        373\n",
       "1  1503960366   4/12/2016 1:00:00 AM        160\n",
       "2  1503960366   4/12/2016 2:00:00 AM        151"
      ]
     },
     "execution_count": 10,
     "metadata": {},
     "output_type": "execute_result"
    }
   ],
   "source": [
    "df2.head(3)"
   ]
  },
  {
   "cell_type": "code",
   "execution_count": 11,
   "id": "7dfe5d4c",
   "metadata": {},
   "outputs": [],
   "source": [
    "df['ActivityHour']=pd.to_datetime(df['ActivityHour'])\n",
    "df1['ActivityHour']=pd.to_datetime(df1['ActivityHour'])\n",
    "df2['ActivityHour']=pd.to_datetime(df2['ActivityHour'])"
   ]
  },
  {
   "cell_type": "code",
   "execution_count": null,
   "id": "d8a52fce",
   "metadata": {},
   "outputs": [],
   "source": [
    "# df.info()\n",
    "# df1.info()\n",
    "# df2.info()"
   ]
  },
  {
   "cell_type": "code",
   "execution_count": null,
   "id": "b8f2fae1",
   "metadata": {},
   "outputs": [],
   "source": [
    "# df['Id'].count()\n",
    "# df1['Id'].count()\n",
    "# df2['Id'].count()\n",
    "# All of them contains equal number of data"
   ]
  },
  {
   "cell_type": "code",
   "execution_count": null,
   "id": "5ceeb56d",
   "metadata": {},
   "outputs": [],
   "source": [
    "# x=df['Id']-df1['Id']\n",
    "# x.sum()\n",
    "# x=df1['Id']-df2['Id']\n",
    "# x.sum()"
   ]
  },
  {
   "cell_type": "markdown",
   "id": "d9f28e6b",
   "metadata": {},
   "source": [
    "Since the Ids are number format, we can check the difference between the Ids of each dataframe to check if they are aligned to each other.\n",
    "* from above experiment we can see that the Ids of each dataframes are alinged to each other"
   ]
  },
  {
   "cell_type": "markdown",
   "id": "01da1b66",
   "metadata": {},
   "source": [
    "### lets merge the three dataframes column wise, so that we can have all the data in a single data frame"
   ]
  },
  {
   "cell_type": "code",
   "execution_count": 21,
   "id": "4eebf0c6",
   "metadata": {},
   "outputs": [],
   "source": [
    "inner_join = pd.merge(df.drop('ActivityHour', axis=1),\n",
    "                      df1.drop('ActivityHour', axis=1), \n",
    "                      on ='Id',\n",
    "                      how='inner')"
   ]
  },
  {
   "cell_type": "code",
   "execution_count": 22,
   "id": "667e2eb2",
   "metadata": {},
   "outputs": [
    {
     "data": {
      "text/html": [
       "<div>\n",
       "<style scoped>\n",
       "    .dataframe tbody tr th:only-of-type {\n",
       "        vertical-align: middle;\n",
       "    }\n",
       "\n",
       "    .dataframe tbody tr th {\n",
       "        vertical-align: top;\n",
       "    }\n",
       "\n",
       "    .dataframe thead th {\n",
       "        text-align: right;\n",
       "    }\n",
       "</style>\n",
       "<table border=\"1\" class=\"dataframe\">\n",
       "  <thead>\n",
       "    <tr style=\"text-align: right;\">\n",
       "      <th></th>\n",
       "      <th>Id</th>\n",
       "      <th>Calories</th>\n",
       "      <th>TotalIntensity</th>\n",
       "      <th>AverageIntensity</th>\n",
       "    </tr>\n",
       "  </thead>\n",
       "  <tbody>\n",
       "    <tr>\n",
       "      <th>0</th>\n",
       "      <td>1503960366</td>\n",
       "      <td>81</td>\n",
       "      <td>20</td>\n",
       "      <td>0.333333</td>\n",
       "    </tr>\n",
       "    <tr>\n",
       "      <th>1</th>\n",
       "      <td>1503960366</td>\n",
       "      <td>81</td>\n",
       "      <td>8</td>\n",
       "      <td>0.133333</td>\n",
       "    </tr>\n",
       "    <tr>\n",
       "      <th>2</th>\n",
       "      <td>1503960366</td>\n",
       "      <td>81</td>\n",
       "      <td>7</td>\n",
       "      <td>0.116667</td>\n",
       "    </tr>\n",
       "    <tr>\n",
       "      <th>3</th>\n",
       "      <td>1503960366</td>\n",
       "      <td>81</td>\n",
       "      <td>0</td>\n",
       "      <td>0.000000</td>\n",
       "    </tr>\n",
       "    <tr>\n",
       "      <th>4</th>\n",
       "      <td>1503960366</td>\n",
       "      <td>81</td>\n",
       "      <td>0</td>\n",
       "      <td>0.000000</td>\n",
       "    </tr>\n",
       "  </tbody>\n",
       "</table>\n",
       "</div>"
      ],
      "text/plain": [
       "           Id  Calories  TotalIntensity  AverageIntensity\n",
       "0  1503960366        81              20          0.333333\n",
       "1  1503960366        81               8          0.133333\n",
       "2  1503960366        81               7          0.116667\n",
       "3  1503960366        81               0          0.000000\n",
       "4  1503960366        81               0          0.000000"
      ]
     },
     "execution_count": 22,
     "metadata": {},
     "output_type": "execute_result"
    }
   ],
   "source": [
    "inner_join.head()"
   ]
  },
  {
   "cell_type": "markdown",
   "id": "ab0c7a1c",
   "metadata": {},
   "source": [
    "* as we can see here pd.merge is giving wrong values for calories, and the reason for this is there are repeated values of \n",
    "Id for each user. Therefore we will have to merge the data by simply concatenating. \n",
    "* another way we can apply is by first performing the aggregation and then merging using pd.merge\n",
    "*Lets go with the send method"
   ]
  },
  {
   "cell_type": "markdown",
   "id": "25690caa",
   "metadata": {},
   "source": [
    "### Lets perform the aggregration and find out hourly calories burned for each user"
   ]
  },
  {
   "cell_type": "code",
   "execution_count": 24,
   "id": "9635ab62",
   "metadata": {},
   "outputs": [
    {
     "data": {
      "text/html": [
       "<div>\n",
       "<style scoped>\n",
       "    .dataframe tbody tr th:only-of-type {\n",
       "        vertical-align: middle;\n",
       "    }\n",
       "\n",
       "    .dataframe tbody tr th {\n",
       "        vertical-align: top;\n",
       "    }\n",
       "\n",
       "    .dataframe thead th {\n",
       "        text-align: right;\n",
       "    }\n",
       "</style>\n",
       "<table border=\"1\" class=\"dataframe\">\n",
       "  <thead>\n",
       "    <tr style=\"text-align: right;\">\n",
       "      <th></th>\n",
       "      <th>Id</th>\n",
       "      <th>ActivityHour</th>\n",
       "      <th>Calories</th>\n",
       "    </tr>\n",
       "  </thead>\n",
       "  <tbody>\n",
       "    <tr>\n",
       "      <th>0</th>\n",
       "      <td>1503960366</td>\n",
       "      <td>2016-04-12 00:00:00</td>\n",
       "      <td>81</td>\n",
       "    </tr>\n",
       "    <tr>\n",
       "      <th>1</th>\n",
       "      <td>1503960366</td>\n",
       "      <td>2016-04-12 01:00:00</td>\n",
       "      <td>61</td>\n",
       "    </tr>\n",
       "    <tr>\n",
       "      <th>2</th>\n",
       "      <td>1503960366</td>\n",
       "      <td>2016-04-12 02:00:00</td>\n",
       "      <td>59</td>\n",
       "    </tr>\n",
       "    <tr>\n",
       "      <th>3</th>\n",
       "      <td>1503960366</td>\n",
       "      <td>2016-04-12 03:00:00</td>\n",
       "      <td>47</td>\n",
       "    </tr>\n",
       "    <tr>\n",
       "      <th>4</th>\n",
       "      <td>1503960366</td>\n",
       "      <td>2016-04-12 04:00:00</td>\n",
       "      <td>48</td>\n",
       "    </tr>\n",
       "  </tbody>\n",
       "</table>\n",
       "</div>"
      ],
      "text/plain": [
       "           Id        ActivityHour  Calories\n",
       "0  1503960366 2016-04-12 00:00:00        81\n",
       "1  1503960366 2016-04-12 01:00:00        61\n",
       "2  1503960366 2016-04-12 02:00:00        59\n",
       "3  1503960366 2016-04-12 03:00:00        47\n",
       "4  1503960366 2016-04-12 04:00:00        48"
      ]
     },
     "execution_count": 24,
     "metadata": {},
     "output_type": "execute_result"
    }
   ],
   "source": [
    "df.head()"
   ]
  },
  {
   "cell_type": "code",
   "execution_count": 25,
   "id": "778d89af",
   "metadata": {},
   "outputs": [
    {
     "name": "stdout",
     "output_type": "stream",
     "text": [
      "<class 'pandas.core.frame.DataFrame'>\n",
      "RangeIndex: 22099 entries, 0 to 22098\n",
      "Data columns (total 3 columns):\n",
      " #   Column        Non-Null Count  Dtype         \n",
      "---  ------        --------------  -----         \n",
      " 0   Id            22099 non-null  int64         \n",
      " 1   ActivityHour  22099 non-null  datetime64[ns]\n",
      " 2   Calories      22099 non-null  int64         \n",
      "dtypes: datetime64[ns](1), int64(2)\n",
      "memory usage: 518.1 KB\n"
     ]
    }
   ],
   "source": [
    "df.info()"
   ]
  },
  {
   "cell_type": "code",
   "execution_count": 28,
   "id": "5371250a",
   "metadata": {},
   "outputs": [],
   "source": [
    "df_count=df.groupby('Id').count()['ActivityHour']"
   ]
  },
  {
   "cell_type": "code",
   "execution_count": 36,
   "id": "3fe7c7fe",
   "metadata": {},
   "outputs": [
    {
     "data": {
      "text/plain": [
       "669.6666666666666"
      ]
     },
     "execution_count": 36,
     "metadata": {},
     "output_type": "execute_result"
    }
   ],
   "source": [
    "df_count\n",
    "#The average count of each user is more or less same\n",
    "df_count.mean()"
   ]
  },
  {
   "cell_type": "code",
   "execution_count": 32,
   "id": "0199f3df",
   "metadata": {},
   "outputs": [],
   "source": [
    "df_new=df.groupby('Id').sum()['Calories']"
   ]
  },
  {
   "cell_type": "code",
   "execution_count": 33,
   "id": "9fad362a",
   "metadata": {},
   "outputs": [],
   "source": [
    "calories_hr=df_new/df_count"
   ]
  },
  {
   "cell_type": "code",
   "execution_count": 116,
   "id": "295d95e3",
   "metadata": {},
   "outputs": [
    {
     "ename": "AttributeError",
     "evalue": "module 'pandas' has no attribute 'series'",
     "output_type": "error",
     "traceback": [
      "\u001b[0;31m---------------------------------------------------------------------------\u001b[0m",
      "\u001b[0;31mAttributeError\u001b[0m                            Traceback (most recent call last)",
      "\u001b[0;32m/tmp/ipykernel_2314356/3039434742.py\u001b[0m in \u001b[0;36m<module>\u001b[0;34m\u001b[0m\n\u001b[0;32m----> 1\u001b[0;31m \u001b[0mcalories\u001b[0m\u001b[0;34m=\u001b[0m\u001b[0mpd\u001b[0m\u001b[0;34m.\u001b[0m\u001b[0mseries\u001b[0m\u001b[0;34m(\u001b[0m\u001b[0mcalories_hr\u001b[0m\u001b[0;34m,\u001b[0m \u001b[0mname\u001b[0m\u001b[0;34m=\u001b[0m\u001b[0;34m'calories'\u001b[0m\u001b[0;34m)\u001b[0m\u001b[0;34m\u001b[0m\u001b[0;34m\u001b[0m\u001b[0m\n\u001b[0m",
      "\u001b[0;32m~/anaconda3/lib/python3.9/site-packages/pandas/__init__.py\u001b[0m in \u001b[0;36m__getattr__\u001b[0;34m(name)\u001b[0m\n\u001b[1;32m    242\u001b[0m         \u001b[0;32mreturn\u001b[0m \u001b[0m_SparseArray\u001b[0m\u001b[0;34m\u001b[0m\u001b[0;34m\u001b[0m\u001b[0m\n\u001b[1;32m    243\u001b[0m \u001b[0;34m\u001b[0m\u001b[0m\n\u001b[0;32m--> 244\u001b[0;31m     \u001b[0;32mraise\u001b[0m \u001b[0mAttributeError\u001b[0m\u001b[0;34m(\u001b[0m\u001b[0;34mf\"module 'pandas' has no attribute '{name}'\"\u001b[0m\u001b[0;34m)\u001b[0m\u001b[0;34m\u001b[0m\u001b[0;34m\u001b[0m\u001b[0m\n\u001b[0m\u001b[1;32m    245\u001b[0m \u001b[0;34m\u001b[0m\u001b[0m\n\u001b[1;32m    246\u001b[0m \u001b[0;34m\u001b[0m\u001b[0m\n",
      "\u001b[0;31mAttributeError\u001b[0m: module 'pandas' has no attribute 'series'"
     ]
    }
   ],
   "source": [
    "calories=pd.Series(calories_hr, name='calories')\n",
    "calories=calories.to_frame()"
   ]
  },
  {
   "cell_type": "code",
   "execution_count": 105,
   "id": "ab8da27d",
   "metadata": {},
   "outputs": [
    {
     "data": {
      "text/plain": [
       "pandas.core.frame.DataFrame"
      ]
     },
     "execution_count": 105,
     "metadata": {},
     "output_type": "execute_result"
    }
   ],
   "source": [
    "type(calories)"
   ]
  },
  {
   "cell_type": "code",
   "execution_count": 106,
   "id": "68df3e3d",
   "metadata": {},
   "outputs": [],
   "source": [
    "calories.reset_index(inplace=True)"
   ]
  },
  {
   "cell_type": "code",
   "execution_count": 107,
   "id": "715ff64d",
   "metadata": {},
   "outputs": [
    {
     "data": {
      "text/html": [
       "<div>\n",
       "<style scoped>\n",
       "    .dataframe tbody tr th:only-of-type {\n",
       "        vertical-align: middle;\n",
       "    }\n",
       "\n",
       "    .dataframe tbody tr th {\n",
       "        vertical-align: top;\n",
       "    }\n",
       "\n",
       "    .dataframe thead th {\n",
       "        text-align: right;\n",
       "    }\n",
       "</style>\n",
       "<table border=\"1\" class=\"dataframe\">\n",
       "  <thead>\n",
       "    <tr style=\"text-align: right;\">\n",
       "      <th></th>\n",
       "      <th>Id</th>\n",
       "      <th>calories</th>\n",
       "    </tr>\n",
       "  </thead>\n",
       "  <tbody>\n",
       "    <tr>\n",
       "      <th>0</th>\n",
       "      <td>1503960366</td>\n",
       "      <td>78.503487</td>\n",
       "    </tr>\n",
       "    <tr>\n",
       "      <th>1</th>\n",
       "      <td>1624580081</td>\n",
       "      <td>62.472826</td>\n",
       "    </tr>\n",
       "    <tr>\n",
       "      <th>2</th>\n",
       "      <td>1644430081</td>\n",
       "      <td>118.820621</td>\n",
       "    </tr>\n",
       "    <tr>\n",
       "      <th>3</th>\n",
       "      <td>1844505072</td>\n",
       "      <td>66.595075</td>\n",
       "    </tr>\n",
       "    <tr>\n",
       "      <th>4</th>\n",
       "      <td>1927972279</td>\n",
       "      <td>91.504076</td>\n",
       "    </tr>\n",
       "  </tbody>\n",
       "</table>\n",
       "</div>"
      ],
      "text/plain": [
       "           Id    calories\n",
       "0  1503960366   78.503487\n",
       "1  1624580081   62.472826\n",
       "2  1644430081  118.820621\n",
       "3  1844505072   66.595075\n",
       "4  1927972279   91.504076"
      ]
     },
     "execution_count": 107,
     "metadata": {},
     "output_type": "execute_result"
    }
   ],
   "source": [
    "calories.head()"
   ]
  },
  {
   "cell_type": "markdown",
   "id": "7427d88e",
   "metadata": {},
   "source": [
    "* This is the average hourly calories burned each user"
   ]
  },
  {
   "cell_type": "markdown",
   "id": "fcbfc8eb",
   "metadata": {},
   "source": [
    "### Lets perform the aggregration and find out hourly intensity of each user"
   ]
  },
  {
   "cell_type": "code",
   "execution_count": 37,
   "id": "4c3afdad",
   "metadata": {},
   "outputs": [
    {
     "data": {
      "text/html": [
       "<div>\n",
       "<style scoped>\n",
       "    .dataframe tbody tr th:only-of-type {\n",
       "        vertical-align: middle;\n",
       "    }\n",
       "\n",
       "    .dataframe tbody tr th {\n",
       "        vertical-align: top;\n",
       "    }\n",
       "\n",
       "    .dataframe thead th {\n",
       "        text-align: right;\n",
       "    }\n",
       "</style>\n",
       "<table border=\"1\" class=\"dataframe\">\n",
       "  <thead>\n",
       "    <tr style=\"text-align: right;\">\n",
       "      <th></th>\n",
       "      <th>Id</th>\n",
       "      <th>ActivityHour</th>\n",
       "      <th>TotalIntensity</th>\n",
       "      <th>AverageIntensity</th>\n",
       "    </tr>\n",
       "  </thead>\n",
       "  <tbody>\n",
       "    <tr>\n",
       "      <th>0</th>\n",
       "      <td>1503960366</td>\n",
       "      <td>2016-04-12 00:00:00</td>\n",
       "      <td>20</td>\n",
       "      <td>0.333333</td>\n",
       "    </tr>\n",
       "    <tr>\n",
       "      <th>1</th>\n",
       "      <td>1503960366</td>\n",
       "      <td>2016-04-12 01:00:00</td>\n",
       "      <td>8</td>\n",
       "      <td>0.133333</td>\n",
       "    </tr>\n",
       "    <tr>\n",
       "      <th>2</th>\n",
       "      <td>1503960366</td>\n",
       "      <td>2016-04-12 02:00:00</td>\n",
       "      <td>7</td>\n",
       "      <td>0.116667</td>\n",
       "    </tr>\n",
       "    <tr>\n",
       "      <th>3</th>\n",
       "      <td>1503960366</td>\n",
       "      <td>2016-04-12 03:00:00</td>\n",
       "      <td>0</td>\n",
       "      <td>0.000000</td>\n",
       "    </tr>\n",
       "    <tr>\n",
       "      <th>4</th>\n",
       "      <td>1503960366</td>\n",
       "      <td>2016-04-12 04:00:00</td>\n",
       "      <td>0</td>\n",
       "      <td>0.000000</td>\n",
       "    </tr>\n",
       "  </tbody>\n",
       "</table>\n",
       "</div>"
      ],
      "text/plain": [
       "           Id        ActivityHour  TotalIntensity  AverageIntensity\n",
       "0  1503960366 2016-04-12 00:00:00              20          0.333333\n",
       "1  1503960366 2016-04-12 01:00:00               8          0.133333\n",
       "2  1503960366 2016-04-12 02:00:00               7          0.116667\n",
       "3  1503960366 2016-04-12 03:00:00               0          0.000000\n",
       "4  1503960366 2016-04-12 04:00:00               0          0.000000"
      ]
     },
     "execution_count": 37,
     "metadata": {},
     "output_type": "execute_result"
    }
   ],
   "source": [
    "df1.head()"
   ]
  },
  {
   "cell_type": "markdown",
   "id": "413e9773",
   "metadata": {},
   "source": [
    "* We are not droping the zero values in the intensities as it shows that the user was tracking his/her intensities during the\n",
    "ideal periods as well, so we will include those values to calculate the average"
   ]
  },
  {
   "cell_type": "code",
   "execution_count": 38,
   "id": "00f84f4a",
   "metadata": {},
   "outputs": [
    {
     "name": "stdout",
     "output_type": "stream",
     "text": [
      "<class 'pandas.core.frame.DataFrame'>\n",
      "RangeIndex: 22099 entries, 0 to 22098\n",
      "Data columns (total 4 columns):\n",
      " #   Column            Non-Null Count  Dtype         \n",
      "---  ------            --------------  -----         \n",
      " 0   Id                22099 non-null  int64         \n",
      " 1   ActivityHour      22099 non-null  datetime64[ns]\n",
      " 2   TotalIntensity    22099 non-null  int64         \n",
      " 3   AverageIntensity  22099 non-null  float64       \n",
      "dtypes: datetime64[ns](1), float64(1), int64(2)\n",
      "memory usage: 690.7 KB\n"
     ]
    }
   ],
   "source": [
    "df1.info()"
   ]
  },
  {
   "cell_type": "markdown",
   "id": "9074b755",
   "metadata": {},
   "source": [
    "* in this df1, sum the total intensity and divide it with the total number of hours per users. \n",
    "* lets do both and cross check"
   ]
  },
  {
   "cell_type": "code",
   "execution_count": 52,
   "id": "2a2f279f",
   "metadata": {},
   "outputs": [
    {
     "data": {
      "text/plain": [
       "Id\n",
       "1503960366    16.170153\n",
       "1624580081     8.039402\n",
       "1644430081    10.519774\n",
       "1844505072     5.021888\n",
       "1927972279     1.857337\n",
       "2022484408    17.031250\n",
       "2026352035    10.812500\n",
       "2320127002     8.742857\n",
       "2347167796    14.521739\n",
       "2873212765    15.101902\n",
       "3372868164    15.379237\n",
       "3977333714    15.228448\n",
       "4020332650     4.357923\n",
       "4057192912     4.897727\n",
       "4319703577    11.310773\n",
       "4388161847    14.311565\n",
       "4445114986     9.793197\n",
       "4558609924    14.449728\n",
       "4702921684    12.931601\n",
       "5553957443    12.843836\n",
       "5577150313    19.895480\n",
       "6117666160    12.540909\n",
       "6290855005    10.600000\n",
       "6775888955     4.373770\n",
       "6962181067    14.875683\n",
       "7007744171    17.580699\n",
       "7086361926    13.563438\n",
       "8053475328    17.949660\n",
       "8253242879     9.106729\n",
       "8378563200    14.858503\n",
       "8583815059     9.130919\n",
       "8792009665     4.434524\n",
       "8877689391    19.081633\n",
       "dtype: float64"
      ]
     },
     "execution_count": 52,
     "metadata": {},
     "output_type": "execute_result"
    }
   ],
   "source": [
    "df1_count=df1.groupby('Id').count()['ActivityHour']\n",
    "df1_new=df1.groupby('Id').sum()['TotalIntensity']\n",
    "intensities_hr=df1_new/df1_count\n",
    "intensities_hr"
   ]
  },
  {
   "cell_type": "code",
   "execution_count": 53,
   "id": "535a2ab3",
   "metadata": {},
   "outputs": [
    {
     "data": {
      "text/plain": [
       "Id\n",
       "1503960366    0.269503\n",
       "1624580081    0.133990\n",
       "1644430081    0.175330\n",
       "1844505072    0.083698\n",
       "1927972279    0.030956\n",
       "2022484408    0.283854\n",
       "2026352035    0.180208\n",
       "2320127002    0.145714\n",
       "2347167796    0.242029\n",
       "2873212765    0.251698\n",
       "3372868164    0.256321\n",
       "3977333714    0.253807\n",
       "4020332650    0.072632\n",
       "4057192912    0.081629\n",
       "4319703577    0.188513\n",
       "4388161847    0.238526\n",
       "4445114986    0.163220\n",
       "4558609924    0.240829\n",
       "4702921684    0.215527\n",
       "5553957443    0.214064\n",
       "5577150313    0.331591\n",
       "6117666160    0.209015\n",
       "6290855005    0.176667\n",
       "6775888955    0.072896\n",
       "6962181067    0.247928\n",
       "7007744171    0.293012\n",
       "7086361926    0.226057\n",
       "8053475328    0.299161\n",
       "8253242879    0.151779\n",
       "8378563200    0.247642\n",
       "8583815059    0.152182\n",
       "8792009665    0.073909\n",
       "8877689391    0.318027\n",
       "dtype: float64"
      ]
     },
     "execution_count": 53,
     "metadata": {},
     "output_type": "execute_result"
    }
   ],
   "source": [
    "df1_new1=df1.groupby('Id').sum()['AverageIntensity']\n",
    "avg_intensities_hr=df1_new1/df1_count\n",
    "avg_intensities_hr"
   ]
  },
  {
   "cell_type": "code",
   "execution_count": 70,
   "id": "77f80282",
   "metadata": {},
   "outputs": [],
   "source": [
    "new_df1=pd.concat([intensities_hr,avg_intensities_hr], axis=1)"
   ]
  },
  {
   "cell_type": "code",
   "execution_count": 72,
   "id": "e929caa3",
   "metadata": {},
   "outputs": [],
   "source": [
    "new_df1.reset_index(inplace=True)"
   ]
  },
  {
   "cell_type": "code",
   "execution_count": 78,
   "id": "cc17848a",
   "metadata": {},
   "outputs": [],
   "source": [
    "new_df1.rename(columns={'0':'Total_intensity_hr', '1':'avg_intensity_hr'}, inplace=True)"
   ]
  },
  {
   "cell_type": "code",
   "execution_count": 83,
   "id": "28a0efac",
   "metadata": {},
   "outputs": [],
   "source": [
    "new_df1.columns=['Id','Total_intensity_hr', 'avg_intensity_hr']"
   ]
  },
  {
   "cell_type": "code",
   "execution_count": 99,
   "id": "d9c0a4ec",
   "metadata": {},
   "outputs": [
    {
     "data": {
      "text/html": [
       "<div>\n",
       "<style scoped>\n",
       "    .dataframe tbody tr th:only-of-type {\n",
       "        vertical-align: middle;\n",
       "    }\n",
       "\n",
       "    .dataframe tbody tr th {\n",
       "        vertical-align: top;\n",
       "    }\n",
       "\n",
       "    .dataframe thead th {\n",
       "        text-align: right;\n",
       "    }\n",
       "</style>\n",
       "<table border=\"1\" class=\"dataframe\">\n",
       "  <thead>\n",
       "    <tr style=\"text-align: right;\">\n",
       "      <th></th>\n",
       "      <th>Id</th>\n",
       "      <th>Total_intensity_hr</th>\n",
       "      <th>avg_intensity_hr</th>\n",
       "    </tr>\n",
       "  </thead>\n",
       "  <tbody>\n",
       "    <tr>\n",
       "      <th>0</th>\n",
       "      <td>1503960366</td>\n",
       "      <td>16.170153</td>\n",
       "      <td>0.269503</td>\n",
       "    </tr>\n",
       "    <tr>\n",
       "      <th>1</th>\n",
       "      <td>1624580081</td>\n",
       "      <td>8.039402</td>\n",
       "      <td>0.133990</td>\n",
       "    </tr>\n",
       "    <tr>\n",
       "      <th>2</th>\n",
       "      <td>1644430081</td>\n",
       "      <td>10.519774</td>\n",
       "      <td>0.175330</td>\n",
       "    </tr>\n",
       "    <tr>\n",
       "      <th>3</th>\n",
       "      <td>1844505072</td>\n",
       "      <td>5.021888</td>\n",
       "      <td>0.083698</td>\n",
       "    </tr>\n",
       "    <tr>\n",
       "      <th>4</th>\n",
       "      <td>1927972279</td>\n",
       "      <td>1.857337</td>\n",
       "      <td>0.030956</td>\n",
       "    </tr>\n",
       "  </tbody>\n",
       "</table>\n",
       "</div>"
      ],
      "text/plain": [
       "           Id  Total_intensity_hr  avg_intensity_hr\n",
       "0  1503960366           16.170153          0.269503\n",
       "1  1624580081            8.039402          0.133990\n",
       "2  1644430081           10.519774          0.175330\n",
       "3  1844505072            5.021888          0.083698\n",
       "4  1927972279            1.857337          0.030956"
      ]
     },
     "execution_count": 99,
     "metadata": {},
     "output_type": "execute_result"
    }
   ],
   "source": [
    "new_df1.head()"
   ]
  },
  {
   "cell_type": "code",
   "execution_count": 100,
   "id": "0c7632a2",
   "metadata": {},
   "outputs": [],
   "source": [
    "# new_df1.to_csv('/home/sunit.kapuria/data analyst course/case_study_2/details_hr')"
   ]
  },
  {
   "cell_type": "markdown",
   "id": "2b086c7a",
   "metadata": {},
   "source": [
    "### Lets join the agregrated information form the average intensity and average calories infomation"
   ]
  },
  {
   "cell_type": "code",
   "execution_count": 108,
   "id": "1b9f21f1",
   "metadata": {},
   "outputs": [],
   "source": [
    "inner_join = pd.merge(new_df1,\n",
    "                      calories, \n",
    "                      on ='Id',\n",
    "                      how='inner')"
   ]
  },
  {
   "cell_type": "code",
   "execution_count": 110,
   "id": "4ec8ebf9",
   "metadata": {},
   "outputs": [],
   "source": [
    "inner_join.columns=['Id','Total_intensity_hr', 'avg_intensity_hr', 'Calories_hr']"
   ]
  },
  {
   "cell_type": "code",
   "execution_count": 111,
   "id": "d034a9dc",
   "metadata": {},
   "outputs": [
    {
     "data": {
      "text/html": [
       "<div>\n",
       "<style scoped>\n",
       "    .dataframe tbody tr th:only-of-type {\n",
       "        vertical-align: middle;\n",
       "    }\n",
       "\n",
       "    .dataframe tbody tr th {\n",
       "        vertical-align: top;\n",
       "    }\n",
       "\n",
       "    .dataframe thead th {\n",
       "        text-align: right;\n",
       "    }\n",
       "</style>\n",
       "<table border=\"1\" class=\"dataframe\">\n",
       "  <thead>\n",
       "    <tr style=\"text-align: right;\">\n",
       "      <th></th>\n",
       "      <th>Id</th>\n",
       "      <th>Total_intensity_hr</th>\n",
       "      <th>avg_intensity_hr</th>\n",
       "      <th>Calories_hr</th>\n",
       "    </tr>\n",
       "  </thead>\n",
       "  <tbody>\n",
       "    <tr>\n",
       "      <th>0</th>\n",
       "      <td>1503960366</td>\n",
       "      <td>16.170153</td>\n",
       "      <td>0.269503</td>\n",
       "      <td>78.503487</td>\n",
       "    </tr>\n",
       "    <tr>\n",
       "      <th>1</th>\n",
       "      <td>1624580081</td>\n",
       "      <td>8.039402</td>\n",
       "      <td>0.133990</td>\n",
       "      <td>62.472826</td>\n",
       "    </tr>\n",
       "    <tr>\n",
       "      <th>2</th>\n",
       "      <td>1644430081</td>\n",
       "      <td>10.519774</td>\n",
       "      <td>0.175330</td>\n",
       "      <td>118.820621</td>\n",
       "    </tr>\n",
       "    <tr>\n",
       "      <th>3</th>\n",
       "      <td>1844505072</td>\n",
       "      <td>5.021888</td>\n",
       "      <td>0.083698</td>\n",
       "      <td>66.595075</td>\n",
       "    </tr>\n",
       "    <tr>\n",
       "      <th>4</th>\n",
       "      <td>1927972279</td>\n",
       "      <td>1.857337</td>\n",
       "      <td>0.030956</td>\n",
       "      <td>91.504076</td>\n",
       "    </tr>\n",
       "  </tbody>\n",
       "</table>\n",
       "</div>"
      ],
      "text/plain": [
       "           Id  Total_intensity_hr  avg_intensity_hr  Calories_hr\n",
       "0  1503960366           16.170153          0.269503    78.503487\n",
       "1  1624580081            8.039402          0.133990    62.472826\n",
       "2  1644430081           10.519774          0.175330   118.820621\n",
       "3  1844505072            5.021888          0.083698    66.595075\n",
       "4  1927972279            1.857337          0.030956    91.504076"
      ]
     },
     "execution_count": 111,
     "metadata": {},
     "output_type": "execute_result"
    }
   ],
   "source": [
    "inner_join.head()"
   ]
  },
  {
   "cell_type": "markdown",
   "id": "6b51136a",
   "metadata": {},
   "source": [
    "### Lets perform the same process for hourly steps caculation"
   ]
  },
  {
   "cell_type": "code",
   "execution_count": 113,
   "id": "a6c17823",
   "metadata": {},
   "outputs": [
    {
     "data": {
      "text/html": [
       "<div>\n",
       "<style scoped>\n",
       "    .dataframe tbody tr th:only-of-type {\n",
       "        vertical-align: middle;\n",
       "    }\n",
       "\n",
       "    .dataframe tbody tr th {\n",
       "        vertical-align: top;\n",
       "    }\n",
       "\n",
       "    .dataframe thead th {\n",
       "        text-align: right;\n",
       "    }\n",
       "</style>\n",
       "<table border=\"1\" class=\"dataframe\">\n",
       "  <thead>\n",
       "    <tr style=\"text-align: right;\">\n",
       "      <th></th>\n",
       "      <th>Id</th>\n",
       "      <th>ActivityHour</th>\n",
       "      <th>StepTotal</th>\n",
       "    </tr>\n",
       "  </thead>\n",
       "  <tbody>\n",
       "    <tr>\n",
       "      <th>0</th>\n",
       "      <td>1503960366</td>\n",
       "      <td>4/12/2016 12:00:00 AM</td>\n",
       "      <td>373</td>\n",
       "    </tr>\n",
       "    <tr>\n",
       "      <th>1</th>\n",
       "      <td>1503960366</td>\n",
       "      <td>4/12/2016 1:00:00 AM</td>\n",
       "      <td>160</td>\n",
       "    </tr>\n",
       "    <tr>\n",
       "      <th>2</th>\n",
       "      <td>1503960366</td>\n",
       "      <td>4/12/2016 2:00:00 AM</td>\n",
       "      <td>151</td>\n",
       "    </tr>\n",
       "    <tr>\n",
       "      <th>3</th>\n",
       "      <td>1503960366</td>\n",
       "      <td>4/12/2016 3:00:00 AM</td>\n",
       "      <td>0</td>\n",
       "    </tr>\n",
       "    <tr>\n",
       "      <th>4</th>\n",
       "      <td>1503960366</td>\n",
       "      <td>4/12/2016 4:00:00 AM</td>\n",
       "      <td>0</td>\n",
       "    </tr>\n",
       "  </tbody>\n",
       "</table>\n",
       "</div>"
      ],
      "text/plain": [
       "           Id           ActivityHour  StepTotal\n",
       "0  1503960366  4/12/2016 12:00:00 AM        373\n",
       "1  1503960366   4/12/2016 1:00:00 AM        160\n",
       "2  1503960366   4/12/2016 2:00:00 AM        151\n",
       "3  1503960366   4/12/2016 3:00:00 AM          0\n",
       "4  1503960366   4/12/2016 4:00:00 AM          0"
      ]
     },
     "execution_count": 113,
     "metadata": {},
     "output_type": "execute_result"
    }
   ],
   "source": [
    "df2.head()"
   ]
  },
  {
   "cell_type": "code",
   "execution_count": 114,
   "id": "2caf4048",
   "metadata": {},
   "outputs": [
    {
     "name": "stdout",
     "output_type": "stream",
     "text": [
      "<class 'pandas.core.frame.DataFrame'>\n",
      "RangeIndex: 22099 entries, 0 to 22098\n",
      "Data columns (total 3 columns):\n",
      " #   Column        Non-Null Count  Dtype \n",
      "---  ------        --------------  ----- \n",
      " 0   Id            22099 non-null  int64 \n",
      " 1   ActivityHour  22099 non-null  object\n",
      " 2   StepTotal     22099 non-null  int64 \n",
      "dtypes: int64(2), object(1)\n",
      "memory usage: 518.1+ KB\n"
     ]
    }
   ],
   "source": [
    "df2.info()"
   ]
  },
  {
   "cell_type": "code",
   "execution_count": 117,
   "id": "7a906d58",
   "metadata": {},
   "outputs": [],
   "source": [
    "df2['ActivityHour']=pd.to_datetime(df2['ActivityHour'])"
   ]
  },
  {
   "cell_type": "code",
   "execution_count": 118,
   "id": "9d61b195",
   "metadata": {},
   "outputs": [],
   "source": [
    "df2_count=df2.groupby('Id').count()['ActivityHour']"
   ]
  },
  {
   "cell_type": "code",
   "execution_count": 119,
   "id": "95d1e273",
   "metadata": {},
   "outputs": [],
   "source": [
    "df22_new=df2.groupby('Id').sum()['StepTotal']"
   ]
  },
  {
   "cell_type": "code",
   "execution_count": 120,
   "id": "e63c7b6c",
   "metadata": {},
   "outputs": [],
   "source": [
    "steps_hr=df22_new/df2_count"
   ]
  },
  {
   "cell_type": "code",
   "execution_count": 121,
   "id": "b44ec686",
   "metadata": {},
   "outputs": [],
   "source": [
    "steps_hr=pd.Series(steps_hr, name='steps_hr')\n",
    "steps_hr=steps_hr.to_frame()"
   ]
  },
  {
   "cell_type": "code",
   "execution_count": 122,
   "id": "ff37f6f5",
   "metadata": {},
   "outputs": [],
   "source": [
    "steps_hr.reset_index(inplace=True)"
   ]
  },
  {
   "cell_type": "code",
   "execution_count": 123,
   "id": "4c72b872",
   "metadata": {},
   "outputs": [
    {
     "data": {
      "text/html": [
       "<div>\n",
       "<style scoped>\n",
       "    .dataframe tbody tr th:only-of-type {\n",
       "        vertical-align: middle;\n",
       "    }\n",
       "\n",
       "    .dataframe tbody tr th {\n",
       "        vertical-align: top;\n",
       "    }\n",
       "\n",
       "    .dataframe thead th {\n",
       "        text-align: right;\n",
       "    }\n",
       "</style>\n",
       "<table border=\"1\" class=\"dataframe\">\n",
       "  <thead>\n",
       "    <tr style=\"text-align: right;\">\n",
       "      <th></th>\n",
       "      <th>Id</th>\n",
       "      <th>steps_hr</th>\n",
       "    </tr>\n",
       "  </thead>\n",
       "  <tbody>\n",
       "    <tr>\n",
       "      <th>0</th>\n",
       "      <td>1503960366</td>\n",
       "      <td>522.379358</td>\n",
       "    </tr>\n",
       "    <tr>\n",
       "      <th>1</th>\n",
       "      <td>1624580081</td>\n",
       "      <td>241.508152</td>\n",
       "    </tr>\n",
       "    <tr>\n",
       "      <th>2</th>\n",
       "      <td>1644430081</td>\n",
       "      <td>307.806497</td>\n",
       "    </tr>\n",
       "    <tr>\n",
       "      <th>3</th>\n",
       "      <td>1844505072</td>\n",
       "      <td>109.359781</td>\n",
       "    </tr>\n",
       "    <tr>\n",
       "      <th>4</th>\n",
       "      <td>1927972279</td>\n",
       "      <td>38.586957</td>\n",
       "    </tr>\n",
       "  </tbody>\n",
       "</table>\n",
       "</div>"
      ],
      "text/plain": [
       "           Id    steps_hr\n",
       "0  1503960366  522.379358\n",
       "1  1624580081  241.508152\n",
       "2  1644430081  307.806497\n",
       "3  1844505072  109.359781\n",
       "4  1927972279   38.586957"
      ]
     },
     "execution_count": 123,
     "metadata": {},
     "output_type": "execute_result"
    }
   ],
   "source": [
    "steps_hr.head()"
   ]
  },
  {
   "cell_type": "markdown",
   "id": "2bcaac88",
   "metadata": {},
   "source": [
    "Lets merge it with the previous newly merged dataframe"
   ]
  },
  {
   "cell_type": "code",
   "execution_count": 124,
   "id": "9b88803e",
   "metadata": {},
   "outputs": [],
   "source": [
    "final_join = pd.merge(inner_join,\n",
    "                      steps_hr, \n",
    "                      on ='Id',\n",
    "                      how='inner')"
   ]
  },
  {
   "cell_type": "code",
   "execution_count": 125,
   "id": "e9b519b1",
   "metadata": {},
   "outputs": [
    {
     "data": {
      "text/html": [
       "<div>\n",
       "<style scoped>\n",
       "    .dataframe tbody tr th:only-of-type {\n",
       "        vertical-align: middle;\n",
       "    }\n",
       "\n",
       "    .dataframe tbody tr th {\n",
       "        vertical-align: top;\n",
       "    }\n",
       "\n",
       "    .dataframe thead th {\n",
       "        text-align: right;\n",
       "    }\n",
       "</style>\n",
       "<table border=\"1\" class=\"dataframe\">\n",
       "  <thead>\n",
       "    <tr style=\"text-align: right;\">\n",
       "      <th></th>\n",
       "      <th>Id</th>\n",
       "      <th>Total_intensity_hr</th>\n",
       "      <th>avg_intensity_hr</th>\n",
       "      <th>Calories_hr</th>\n",
       "      <th>steps_hr</th>\n",
       "    </tr>\n",
       "  </thead>\n",
       "  <tbody>\n",
       "    <tr>\n",
       "      <th>0</th>\n",
       "      <td>1503960366</td>\n",
       "      <td>16.170153</td>\n",
       "      <td>0.269503</td>\n",
       "      <td>78.503487</td>\n",
       "      <td>522.379358</td>\n",
       "    </tr>\n",
       "    <tr>\n",
       "      <th>1</th>\n",
       "      <td>1624580081</td>\n",
       "      <td>8.039402</td>\n",
       "      <td>0.133990</td>\n",
       "      <td>62.472826</td>\n",
       "      <td>241.508152</td>\n",
       "    </tr>\n",
       "    <tr>\n",
       "      <th>2</th>\n",
       "      <td>1644430081</td>\n",
       "      <td>10.519774</td>\n",
       "      <td>0.175330</td>\n",
       "      <td>118.820621</td>\n",
       "      <td>307.806497</td>\n",
       "    </tr>\n",
       "    <tr>\n",
       "      <th>3</th>\n",
       "      <td>1844505072</td>\n",
       "      <td>5.021888</td>\n",
       "      <td>0.083698</td>\n",
       "      <td>66.595075</td>\n",
       "      <td>109.359781</td>\n",
       "    </tr>\n",
       "    <tr>\n",
       "      <th>4</th>\n",
       "      <td>1927972279</td>\n",
       "      <td>1.857337</td>\n",
       "      <td>0.030956</td>\n",
       "      <td>91.504076</td>\n",
       "      <td>38.586957</td>\n",
       "    </tr>\n",
       "  </tbody>\n",
       "</table>\n",
       "</div>"
      ],
      "text/plain": [
       "           Id  Total_intensity_hr  avg_intensity_hr  Calories_hr    steps_hr\n",
       "0  1503960366           16.170153          0.269503    78.503487  522.379358\n",
       "1  1624580081            8.039402          0.133990    62.472826  241.508152\n",
       "2  1644430081           10.519774          0.175330   118.820621  307.806497\n",
       "3  1844505072            5.021888          0.083698    66.595075  109.359781\n",
       "4  1927972279            1.857337          0.030956    91.504076   38.586957"
      ]
     },
     "execution_count": 125,
     "metadata": {},
     "output_type": "execute_result"
    }
   ],
   "source": [
    "final_join.head()"
   ]
  },
  {
   "cell_type": "markdown",
   "id": "8971eb49",
   "metadata": {},
   "source": [
    "* Lets now check the visualize the relation between each of the features"
   ]
  },
  {
   "cell_type": "code",
   "execution_count": 126,
   "id": "7951c91b",
   "metadata": {},
   "outputs": [
    {
     "data": {
      "text/plain": [
       "<seaborn.axisgrid.PairGrid at 0x7f1c068289d0>"
      ]
     },
     "execution_count": 126,
     "metadata": {},
     "output_type": "execute_result"
    },
    {
     "data": {
      "image/png": "[encoded data removed]",
      "text/plain": [
       "<Figure size 720x720 with 20 Axes>"
      ]
     },
     "metadata": {
      "needs_background": "light"
     },
     "output_type": "display_data"
    }
   ],
   "source": [
    "sns.pairplot(final_join.iloc[:,1:])"
   ]
  },
  {
   "cell_type": "markdown",
   "id": "feb5ba83",
   "metadata": {},
   "source": [
    "#### It is quite visible that average intensity and total intensity are completely correlated to each other so we will drop average intensity here. \n",
    "* Lets find the correlation value between intenisty and calorie burned and also steps per hr"
   ]
  },
  {
   "cell_type": "code",
   "execution_count": 127,
   "id": "1ede10c1",
   "metadata": {},
   "outputs": [],
   "source": [
    "final_join.drop('avg_intensity_hr', axis=1, inplace=True)"
   ]
  },
  {
   "cell_type": "code",
   "execution_count": 128,
   "id": "d1353996",
   "metadata": {},
   "outputs": [
    {
     "data": {
      "text/plain": [
       "<seaborn.axisgrid.PairGrid at 0x7f1c05145a60>"
      ]
     },
     "execution_count": 128,
     "metadata": {},
     "output_type": "execute_result"
    },
    {
     "data": {
      "image/png": "[encoded data removed]",
      "text/plain": [
       "<Figure size 540x540 with 12 Axes>"
      ]
     },
     "metadata": {
      "needs_background": "light"
     },
     "output_type": "display_data"
    }
   ],
   "source": [
    "sns.pairplot(final_join.iloc[:,1:])"
   ]
  },
  {
   "cell_type": "code",
   "execution_count": 129,
   "id": "ecbffd65",
   "metadata": {},
   "outputs": [],
   "source": [
    "import statistics\n",
    "from scipy.stats import pearsonr"
   ]
  },
  {
   "cell_type": "code",
   "execution_count": 130,
   "id": "0287d2e3",
   "metadata": {},
   "outputs": [
    {
     "name": "stdout",
     "output_type": "stream",
     "text": [
      "0.422\n",
      "\n",
      "\n",
      "\n"
     ]
    }
   ],
   "source": [
    "list1 = final_join['Total_intensity_hr']\n",
    "list2 = final_join['Calories_hr']\n",
    "\n",
    "# Calculating pearson correlation\n",
    "corr, _ = pearsonr(list1, list2)\n",
    "print('%.3f' % corr)\n",
    "print('\\n\\n')"
   ]
  },
  {
   "cell_type": "code",
   "execution_count": 131,
   "id": "962061b5",
   "metadata": {},
   "outputs": [
    {
     "name": "stdout",
     "output_type": "stream",
     "text": [
      "0.898\n",
      "\n",
      "\n",
      "\n"
     ]
    }
   ],
   "source": [
    "list1 = final_join['Total_intensity_hr']\n",
    "list2 = final_join['steps_hr']\n",
    "\n",
    "# Calculating pearson correlation\n",
    "corr, _ = pearsonr(list1, list2)\n",
    "print('%.3f' % corr)\n",
    "print('\\n\\n')"
   ]
  },
  {
   "cell_type": "code",
   "execution_count": 132,
   "id": "c8e9f921",
   "metadata": {},
   "outputs": [
    {
     "name": "stdout",
     "output_type": "stream",
     "text": [
      "0.414\n",
      "\n",
      "\n",
      "\n"
     ]
    }
   ],
   "source": [
    "list1 = final_join['Calories_hr']\n",
    "list2 = final_join['steps_hr']\n",
    "\n",
    "# Calculating pearson correlation\n",
    "corr, _ = pearsonr(list1, list2)\n",
    "print('%.3f' % corr)\n",
    "print('\\n\\n')"
   ]
  },
  {
   "cell_type": "markdown",
   "id": "0f546423",
   "metadata": {},
   "source": []
  },
  {
   "cell_type": "markdown",
   "id": "10f0120c",
   "metadata": {},
   "source": [
    "* this shows that while all three of these variables are positively correlated, there is maximum correlation between Total intensity and total steps per hour, while calories per hour is only 44% correlated to both of them."
   ]
  },
  {
   "cell_type": "markdown",
   "id": "680fc0d2",
   "metadata": {},
   "source": [
    "Let us save the new dataframe as hourly_info"
   ]
  },
  {
   "cell_type": "code",
   "execution_count": 134,
   "id": "57bdfd4e",
   "metadata": {},
   "outputs": [],
   "source": [
    "final_join.to_csv('/home/sunit.kapuria/data analyst course/case_study_2/hourly_info.csv')"
   ]
  },
  {
   "cell_type": "markdown",
   "id": "0e128eda",
   "metadata": {},
   "source": [
    "## we can further check the slope of fitted line between any of these two variables"
   ]
  },
  {
   "cell_type": "code",
   "execution_count": null,
   "id": "01fcf748",
   "metadata": {},
   "outputs": [],
   "source": []
  }
 ],
 "metadata": {
  "kernelspec": {
   "display_name": "Python 3 (ipykernel)",
   "language": "python",
   "name": "python3"
  },
  "language_info": {
   "codemirror_mode": {
    "name": "ipython",
    "version": 3
   },
   "file_extension": ".py",
   "mimetype": "text/x-python",
   "name": "python",
   "nbconvert_exporter": "python",
   "pygments_lexer": "ipython3",
   "version": "3.9.7"
  }
 },
 "nbformat": 4,
 "nbformat_minor": 5
}
