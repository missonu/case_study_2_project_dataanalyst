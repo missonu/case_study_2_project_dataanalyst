{
 "cells": [
  {
   "cell_type": "code",
   "execution_count": 1,
   "id": "e782b163",
   "metadata": {},
   "outputs": [],
   "source": [
    "import pandas as pd\n",
    "import numpy as np\n",
    "import seaborn as sns\n",
    "import matplotlib.pyplot as plt"
   ]
  },
  {
   "cell_type": "markdown",
   "id": "9ce0c7e5",
   "metadata": {},
   "source": [
    "### Heart rate analysis of users"
   ]
  },
  {
   "cell_type": "code",
   "execution_count": 2,
   "id": "a186c3ba",
   "metadata": {},
   "outputs": [],
   "source": [
    "df1=pd.read_csv(\"/home/sunit.kapuria/data analyst course/case_study_2/Fitabase Data 4.12.16-5.12.16/heartrate_seconds_merged.csv\")"
   ]
  },
  {
   "cell_type": "code",
   "execution_count": 3,
   "id": "15697ce2",
   "metadata": {},
   "outputs": [
    {
     "data": {
      "text/html": [
       "<div>\n",
       "<style scoped>\n",
       "    .dataframe tbody tr th:only-of-type {\n",
       "        vertical-align: middle;\n",
       "    }\n",
       "\n",
       "    .dataframe tbody tr th {\n",
       "        vertical-align: top;\n",
       "    }\n",
       "\n",
       "    .dataframe thead th {\n",
       "        text-align: right;\n",
       "    }\n",
       "</style>\n",
       "<table border=\"1\" class=\"dataframe\">\n",
       "  <thead>\n",
       "    <tr style=\"text-align: right;\">\n",
       "      <th></th>\n",
       "      <th>Id</th>\n",
       "      <th>Time</th>\n",
       "      <th>Value</th>\n",
       "    </tr>\n",
       "  </thead>\n",
       "  <tbody>\n",
       "    <tr>\n",
       "      <th>0</th>\n",
       "      <td>2022484408</td>\n",
       "      <td>4/12/2016 7:21:00 AM</td>\n",
       "      <td>97</td>\n",
       "    </tr>\n",
       "    <tr>\n",
       "      <th>1</th>\n",
       "      <td>2022484408</td>\n",
       "      <td>4/12/2016 7:21:05 AM</td>\n",
       "      <td>102</td>\n",
       "    </tr>\n",
       "    <tr>\n",
       "      <th>2</th>\n",
       "      <td>2022484408</td>\n",
       "      <td>4/12/2016 7:21:10 AM</td>\n",
       "      <td>105</td>\n",
       "    </tr>\n",
       "    <tr>\n",
       "      <th>3</th>\n",
       "      <td>2022484408</td>\n",
       "      <td>4/12/2016 7:21:20 AM</td>\n",
       "      <td>103</td>\n",
       "    </tr>\n",
       "    <tr>\n",
       "      <th>4</th>\n",
       "      <td>2022484408</td>\n",
       "      <td>4/12/2016 7:21:25 AM</td>\n",
       "      <td>101</td>\n",
       "    </tr>\n",
       "  </tbody>\n",
       "</table>\n",
       "</div>"
      ],
      "text/plain": [
       "           Id                  Time  Value\n",
       "0  2022484408  4/12/2016 7:21:00 AM     97\n",
       "1  2022484408  4/12/2016 7:21:05 AM    102\n",
       "2  2022484408  4/12/2016 7:21:10 AM    105\n",
       "3  2022484408  4/12/2016 7:21:20 AM    103\n",
       "4  2022484408  4/12/2016 7:21:25 AM    101"
      ]
     },
     "execution_count": 3,
     "metadata": {},
     "output_type": "execute_result"
    }
   ],
   "source": [
    "df1.head()"
   ]
  },
  {
   "cell_type": "code",
   "execution_count": 5,
   "id": "12177954",
   "metadata": {},
   "outputs": [
    {
     "data": {
      "text/plain": [
       "14"
      ]
     },
     "execution_count": 5,
     "metadata": {},
     "output_type": "execute_result"
    }
   ],
   "source": [
    "df1['Id'].nunique()"
   ]
  },
  {
   "cell_type": "markdown",
   "id": "98817ac5",
   "metadata": {},
   "source": [
    "* Heart-rate tracking data is only available for 14 users\n",
    "* Data checks the heart rate of users each second\n",
    "* In adults, the heart usually beats between 60 and 100 times per minute. Doctors usually consider a heart rate of over 100 beats per minute to be too fast, though this varies among individuals.\n",
    "* we will categorise the heart rate as too fast, normal, too slow\n",
    "* (<60) = too slow, 0,\n",
    "* (60-100) = normal 1,\n",
    "* (>100) = too fast 2"
   ]
  },
  {
   "cell_type": "code",
   "execution_count": 7,
   "id": "5309934d",
   "metadata": {},
   "outputs": [
    {
     "data": {
      "text/plain": [
       "(2483658, 3)"
      ]
     },
     "execution_count": 7,
     "metadata": {},
     "output_type": "execute_result"
    }
   ],
   "source": [
    "df1.shape"
   ]
  },
  {
   "cell_type": "code",
   "execution_count": 8,
   "id": "9be0be33",
   "metadata": {},
   "outputs": [],
   "source": [
    "def heartrate(x):\n",
    "    if x<60:\n",
    "        return 0\n",
    "    elif x>=60 and x<=100:\n",
    "        return 1\n",
    "    else:\n",
    "        return 2"
   ]
  },
  {
   "cell_type": "code",
   "execution_count": 9,
   "id": "fea791df",
   "metadata": {},
   "outputs": [],
   "source": [
    "df1['heart_cat']=df1['Value'].apply(heartrate)"
   ]
  },
  {
   "cell_type": "code",
   "execution_count": 10,
   "id": "f362d634",
   "metadata": {},
   "outputs": [
    {
     "data": {
      "text/html": [
       "<div>\n",
       "<style scoped>\n",
       "    .dataframe tbody tr th:only-of-type {\n",
       "        vertical-align: middle;\n",
       "    }\n",
       "\n",
       "    .dataframe tbody tr th {\n",
       "        vertical-align: top;\n",
       "    }\n",
       "\n",
       "    .dataframe thead th {\n",
       "        text-align: right;\n",
       "    }\n",
       "</style>\n",
       "<table border=\"1\" class=\"dataframe\">\n",
       "  <thead>\n",
       "    <tr style=\"text-align: right;\">\n",
       "      <th></th>\n",
       "      <th>Id</th>\n",
       "      <th>Time</th>\n",
       "      <th>Value</th>\n",
       "      <th>heart_cat</th>\n",
       "    </tr>\n",
       "  </thead>\n",
       "  <tbody>\n",
       "    <tr>\n",
       "      <th>0</th>\n",
       "      <td>2022484408</td>\n",
       "      <td>4/12/2016 7:21:00 AM</td>\n",
       "      <td>97</td>\n",
       "      <td>1</td>\n",
       "    </tr>\n",
       "    <tr>\n",
       "      <th>1</th>\n",
       "      <td>2022484408</td>\n",
       "      <td>4/12/2016 7:21:05 AM</td>\n",
       "      <td>102</td>\n",
       "      <td>2</td>\n",
       "    </tr>\n",
       "    <tr>\n",
       "      <th>2</th>\n",
       "      <td>2022484408</td>\n",
       "      <td>4/12/2016 7:21:10 AM</td>\n",
       "      <td>105</td>\n",
       "      <td>2</td>\n",
       "    </tr>\n",
       "    <tr>\n",
       "      <th>3</th>\n",
       "      <td>2022484408</td>\n",
       "      <td>4/12/2016 7:21:20 AM</td>\n",
       "      <td>103</td>\n",
       "      <td>2</td>\n",
       "    </tr>\n",
       "    <tr>\n",
       "      <th>4</th>\n",
       "      <td>2022484408</td>\n",
       "      <td>4/12/2016 7:21:25 AM</td>\n",
       "      <td>101</td>\n",
       "      <td>2</td>\n",
       "    </tr>\n",
       "  </tbody>\n",
       "</table>\n",
       "</div>"
      ],
      "text/plain": [
       "           Id                  Time  Value  heart_cat\n",
       "0  2022484408  4/12/2016 7:21:00 AM     97          1\n",
       "1  2022484408  4/12/2016 7:21:05 AM    102          2\n",
       "2  2022484408  4/12/2016 7:21:10 AM    105          2\n",
       "3  2022484408  4/12/2016 7:21:20 AM    103          2\n",
       "4  2022484408  4/12/2016 7:21:25 AM    101          2"
      ]
     },
     "execution_count": 10,
     "metadata": {},
     "output_type": "execute_result"
    }
   ],
   "source": [
    "df1.head()"
   ]
  },
  {
   "cell_type": "code",
   "execution_count": 19,
   "id": "bbe59fc0",
   "metadata": {},
   "outputs": [
    {
     "data": {
      "text/plain": [
       "<AxesSubplot:xlabel='heart_cat', ylabel='count'>"
      ]
     },
     "execution_count": 19,
     "metadata": {},
     "output_type": "execute_result"
    },
    {
     "data": {
      "image/png": "[encoded data removed]",
      "text/plain": [
       "<Figure size 432x288 with 1 Axes>"
      ]
     },
     "metadata": {
      "needs_background": "light"
     },
     "output_type": "display_data"
    }
   ],
   "source": [
    "sns.countplot(x='heart_cat', data=df1)"
   ]
  },
  {
   "cell_type": "code",
   "execution_count": 32,
   "id": "87061c8b",
   "metadata": {},
   "outputs": [
    {
     "data": {
      "text/plain": [
       "(0, 1, 2, 3, 4, 5, 6, 7, 8, 9, 10, 11, 12, 13)"
      ]
     },
     "execution_count": 32,
     "metadata": {},
     "output_type": "execute_result"
    }
   ],
   "source": [
    "tuple(range(df1['Id'].nunique()))"
   ]
  },
  {
   "cell_type": "code",
   "execution_count": 71,
   "id": "a58d35a4",
   "metadata": {},
   "outputs": [
    {
     "data": {
      "text/plain": [
       "Text(0.5, 1.0, 'Proportion of Heart Rates Among Users ')"
      ]
     },
     "execution_count": 71,
     "metadata": {},
     "output_type": "execute_result"
    },
    {
     "data": {
      "image/png": "[encoded data removed]",
      "text/plain": [
       "<Figure size 1080x720 with 1 Axes>"
      ]
     },
     "metadata": {
      "needs_background": "light"
     },
     "output_type": "display_data"
    }
   ],
   "source": [
    "fig, ax = plt.subplots(figsize=(15,10))\n",
    "sns.countplot(x='Id', hue='heart_cat', data=df1,  palette=\"Set1\")\n",
    "plt.xlabel('Heart rate of users')\n",
    "ax.set_xticks(tuple(range(df1['Id'].nunique())))\n",
    "ax.set_xticklabels(tuple(range(df1['Id'].nunique())))\n",
    "plt.title('Proportion of Heart Rates Among Users ')"
   ]
  },
  {
   "cell_type": "code",
   "execution_count": 72,
   "id": "770b9987",
   "metadata": {},
   "outputs": [],
   "source": [
    "fig.savefig('/home/sunit.kapuria/data analyst course/case_study_2/heart1.png')"
   ]
  },
  {
   "cell_type": "markdown",
   "id": "8e3e2b62",
   "metadata": {},
   "source": [
    "* Lets check what is the count of each category"
   ]
  },
  {
   "cell_type": "code",
   "execution_count": 13,
   "id": "67d53cf6",
   "metadata": {},
   "outputs": [
    {
     "data": {
      "text/plain": [
       "heart_cat\n",
       "0     373015\n",
       "1    1839802\n",
       "2     270841\n",
       "Name: Id, dtype: int64"
      ]
     },
     "execution_count": 13,
     "metadata": {},
     "output_type": "execute_result"
    }
   ],
   "source": [
    "df1.groupby('heart_cat').count()['Id']"
   ]
  },
  {
   "cell_type": "code",
   "execution_count": 54,
   "id": "dfb1b176",
   "metadata": {},
   "outputs": [
    {
     "data": {
      "text/plain": [
       "array([0.15, 0.74, 0.11])"
      ]
     },
     "execution_count": 54,
     "metadata": {},
     "output_type": "execute_result"
    }
   ],
   "source": [
    "mean_xx=np.array(df1.groupby('heart_cat').count()['Id'])\n",
    "mean_xx\n",
    "mean_perc=np.round(mean_xx/sum(mean_xx),2)\n",
    "mean_perc"
   ]
  },
  {
   "cell_type": "code",
   "execution_count": 73,
   "id": "48b91b4a",
   "metadata": {},
   "outputs": [
    {
     "data": {
      "text/plain": [
       "Text(0.8, 0.1, '11%')"
      ]
     },
     "execution_count": 73,
     "metadata": {},
     "output_type": "execute_result"
    },
    {
     "data": {
      "image/png": "[encoded data removed]",
      "text/plain": [
       "<Figure size 432x288 with 1 Axes>"
      ]
     },
     "metadata": {
      "needs_background": "light"
     },
     "output_type": "display_data"
    }
   ],
   "source": [
    "fig, ax = plt.subplots()\n",
    "plt.plot(df1.groupby('heart_cat').count()['Id'],  'o--')\n",
    "plt.xlabel('Heartrate Category')\n",
    "ax.set_xticks((0,1,2))\n",
    "ax.set_xticklabels(('Low Heart Rate', 'Normal Heart Rate', 'High Heart Rate'))\n",
    "plt.title('Heart Rate Pattern')\n",
    "ax.annotate('74%', xy=(1, 1839802),  xycoords='data',\n",
    "            xytext=(0.8, 0.95), textcoords='axes fraction',\n",
    "            arrowprops=dict(facecolor='black', shrink=0.05),\n",
    "            horizontalalignment='right', verticalalignment='top',\n",
    "            )\n",
    "ax.annotate('15%', xy=(0,373015),  xycoords='data',\n",
    "            xytext=(0.2, 0.1), textcoords='axes fraction',\n",
    "            arrowprops=dict(facecolor='black', shrink=0.05),\n",
    "            horizontalalignment='right', verticalalignment='top',\n",
    "            )\n",
    "ax.annotate('11%', xy=(2,270841),  xycoords='data',\n",
    "            xytext=(0.8, 0.1), textcoords='axes fraction',\n",
    "            arrowprops=dict(facecolor='black', shrink=0.05),\n",
    "            horizontalalignment='right', verticalalignment='top',\n",
    "            )"
   ]
  },
  {
   "cell_type": "markdown",
   "id": "5468732c",
   "metadata": {},
   "source": [
    "### Findings:\n",
    "\n",
    "* 74% of heartrate falls under Normal for all users\n",
    "* 15% falls under Low heart rate\n",
    "* 11% falls under High heart rate\n",
    "* The pattern of heart rate varies from user to user.\n",
    "* Some users are obsreved to have a good acount of low heart rate and high hearrate, and this can be used to alert the user about the same.\n",
    "* For same reason the data is only available for 14 users out of 33 users.\n",
    "* We should further look into the reason of data non-availability. \n",
    "* Question arises: Is the data not available because the user have not switched on the feature to track heart rate?\n",
    "* Since most of the users have other details of the device which clearly shows that more than 14 users have worn the device most of the time. Therefore, it can be suggested that the feature of tracking the heart rate is not switched on by the users.\n",
    "* Or, For some reason, such as improper wearing of the device might be a reason of not detecting the heart rate.\n",
    "\n",
    "* Recommendations:\n",
    "> Bellabit can focus in this area of \" tracking heart rate\", as it seems this section is very important in tracking the health of the user and can be a good selling point for the smart device."
   ]
  },
  {
   "cell_type": "code",
   "execution_count": 74,
   "id": "deb7da3f",
   "metadata": {},
   "outputs": [],
   "source": [
    "fig.savefig('/home/sunit.kapuria/data analyst course/case_study_2/heart2.png')"
   ]
  },
  {
   "cell_type": "code",
   "execution_count": 67,
   "id": "401787bc",
   "metadata": {},
   "outputs": [
    {
     "data": {
      "text/html": [
       "<div>\n",
       "<style scoped>\n",
       "    .dataframe tbody tr th:only-of-type {\n",
       "        vertical-align: middle;\n",
       "    }\n",
       "\n",
       "    .dataframe tbody tr th {\n",
       "        vertical-align: top;\n",
       "    }\n",
       "\n",
       "    .dataframe thead th {\n",
       "        text-align: right;\n",
       "    }\n",
       "</style>\n",
       "<table border=\"1\" class=\"dataframe\">\n",
       "  <thead>\n",
       "    <tr style=\"text-align: right;\">\n",
       "      <th></th>\n",
       "      <th>Id</th>\n",
       "      <th>Time</th>\n",
       "      <th>Value</th>\n",
       "      <th>heart_cat</th>\n",
       "    </tr>\n",
       "  </thead>\n",
       "  <tbody>\n",
       "    <tr>\n",
       "      <th>0</th>\n",
       "      <td>2022484408</td>\n",
       "      <td>4/12/2016 7:21:00 AM</td>\n",
       "      <td>97</td>\n",
       "      <td>1</td>\n",
       "    </tr>\n",
       "    <tr>\n",
       "      <th>1</th>\n",
       "      <td>2022484408</td>\n",
       "      <td>4/12/2016 7:21:05 AM</td>\n",
       "      <td>102</td>\n",
       "      <td>2</td>\n",
       "    </tr>\n",
       "    <tr>\n",
       "      <th>2</th>\n",
       "      <td>2022484408</td>\n",
       "      <td>4/12/2016 7:21:10 AM</td>\n",
       "      <td>105</td>\n",
       "      <td>2</td>\n",
       "    </tr>\n",
       "    <tr>\n",
       "      <th>3</th>\n",
       "      <td>2022484408</td>\n",
       "      <td>4/12/2016 7:21:20 AM</td>\n",
       "      <td>103</td>\n",
       "      <td>2</td>\n",
       "    </tr>\n",
       "    <tr>\n",
       "      <th>4</th>\n",
       "      <td>2022484408</td>\n",
       "      <td>4/12/2016 7:21:25 AM</td>\n",
       "      <td>101</td>\n",
       "      <td>2</td>\n",
       "    </tr>\n",
       "  </tbody>\n",
       "</table>\n",
       "</div>"
      ],
      "text/plain": [
       "           Id                  Time  Value  heart_cat\n",
       "0  2022484408  4/12/2016 7:21:00 AM     97          1\n",
       "1  2022484408  4/12/2016 7:21:05 AM    102          2\n",
       "2  2022484408  4/12/2016 7:21:10 AM    105          2\n",
       "3  2022484408  4/12/2016 7:21:20 AM    103          2\n",
       "4  2022484408  4/12/2016 7:21:25 AM    101          2"
      ]
     },
     "execution_count": 67,
     "metadata": {},
     "output_type": "execute_result"
    }
   ],
   "source": [
    "df1.head()"
   ]
  },
  {
   "cell_type": "code",
   "execution_count": 68,
   "id": "84fd6219",
   "metadata": {},
   "outputs": [],
   "source": [
    "df1.to_csv('/home/sunit.kapuria/data analyst course/case_study_2/new_heart_rate.csv', index=False)"
   ]
  },
  {
   "cell_type": "markdown",
   "id": "a8572cae",
   "metadata": {},
   "source": [
    "### This data is saved for further visualization in Tableau"
   ]
  },
  {
   "cell_type": "code",
   "execution_count": null,
   "id": "9f7b4136",
   "metadata": {},
   "outputs": [],
   "source": []
  }
 ],
 "metadata": {
  "kernelspec": {
   "display_name": "Python 3 (ipykernel)",
   "language": "python",
   "name": "python3"
  },
  "language_info": {
   "codemirror_mode": {
    "name": "ipython",
    "version": 3
   },
   "file_extension": ".py",
   "mimetype": "text/x-python",
   "name": "python",
   "nbconvert_exporter": "python",
   "pygments_lexer": "ipython3",
   "version": "3.9.7"
  }
 },
 "nbformat": 4,
 "nbformat_minor": 5
}
